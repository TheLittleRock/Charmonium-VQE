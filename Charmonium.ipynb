{
 "cells": [
  {
   "cell_type": "markdown",
   "id": "267a762b-6d2b-4430-867c-66aba54c26e0",
   "metadata": {},
   "source": [
    "# Definice a importy"
   ]
  },
  {
   "cell_type": "code",
   "execution_count": 1,
   "id": "529284d3-d46b-4ff9-91e7-23585cc69427",
   "metadata": {},
   "outputs": [],
   "source": [
    "import numpy as np\n",
    "import matplotlib.pyplot as plt\n",
    "from tabulate import tabulate\n",
    "from IPython.display import clear_output"
   ]
  },
  {
   "cell_type": "code",
   "execution_count": 2,
   "id": "c3bf30d0-4cb6-4419-8bb6-32d72ab25c07",
   "metadata": {},
   "outputs": [],
   "source": [
    "plt.rcParams['text.latex.preamble']=r\"\\usepackage{mlmodern}\"\n",
    "plt.rcParams[\"text.usetex\"] = True\n",
    "plt.rcParams[\"font.size\"] = 11\n",
    "plt.rcParams[\"font.family\"] = 'mlmodern'\n",
    "#plt.rcParams[\"mathtext.fontset\"] = \"cm\""
   ]
  },
  {
   "cell_type": "code",
   "execution_count": 575,
   "id": "2b04818f-164b-49fd-99f2-577c62907dc9",
   "metadata": {},
   "outputs": [
    {
     "name": "stdout",
     "output_type": "stream",
     "text": [
      "env: QXToken=3995d18757f7a07fadfe6c00d94ce4d7aa20b35e38dc33f95f4023b0a7132918a8ed7b0a2c45a5f01e284d24f7145c1134071cc04a94f37cd7405e2420fff658\n"
     ]
    }
   ],
   "source": [
    "%set_env QXToken=3995d18757f7a07fadfe6c00d94ce4d7aa20b35e38dc33f95f4023b0a7132918a8ed7b0a2c45a5f01e284d24f7145c1134071cc04a94f37cd7405e2420fff658"
   ]
  },
  {
   "cell_type": "code",
   "execution_count": 2,
   "id": "849f1ff9-7690-466a-a8dd-fea1b11c7c8d",
   "metadata": {},
   "outputs": [],
   "source": [
    "from typing import List, Callable\n",
    "from scipy.optimize import minimize\n",
    "from scipy.optimize._optimize import OptimizeResult\n",
    "\n",
    "from qiskit import QuantumCircuit\n",
    "from qiskit.quantum_info import Statevector, Operator, SparsePauliOp\n",
    "from qiskit.primitives import StatevectorSampler, PrimitiveJob\n",
    "from qiskit.circuit.library import TwoLocal\n",
    "from qiskit.transpiler.preset_passmanagers import generate_preset_pass_manager\n",
    "from qiskit.visualization import plot_histogram\n",
    "from qiskit_ibm_runtime.fake_provider import FakeSherbrooke\n",
    "from qiskit_ibm_runtime import Session, EstimatorV2 as Estimator\n",
    "from qiskit_ibm_runtime import SamplerV2 as Sampler\n",
    "from qiskit_aer import AerSimulator\n",
    "from qiskit_nature.second_q.circuit.library import UCC, UCCSD\n",
    "from qiskit.quantum_info import Pauli\n",
    "from qiskit.circuit import Parameter\n",
    "from qiskit_ibm_runtime import QiskitRuntimeService, Session\n",
    "\n",
    "from qiskit_nature.second_q.mappers import JordanWignerMapper, BravyiKitaevMapper\n",
    "from qiskit_nature.second_q.operators import FermionicOp, PolynomialTensor"
   ]
  },
  {
   "cell_type": "markdown",
   "id": "ed7017a4-aa7c-46cd-9585-3350051fda64",
   "metadata": {},
   "source": [
    "Usage: qc.draw('mpl', style = my_style)"
   ]
  },
  {
   "cell_type": "code",
   "execution_count": 3,
   "id": "46839dcc-8a95-46dc-8574-3ac5a613d877",
   "metadata": {},
   "outputs": [],
   "source": [
    "my_style = {\n",
    "\"backgroundcolor\" : \"#111111\",\n",
    "\"linecolor\" : \"#FFFFFF\",\n",
    "\"textcolor\": \"#FFFFFF\",\n",
    "\"gatetextcolor\": \"#FFFFFF\" }\n",
    "\n",
    "def reject_outliers(data, m=2):\n",
    "    return data[abs(data - np.mean(data)) < m * np.std(data)]"
   ]
  },
  {
   "cell_type": "code",
   "execution_count": 4,
   "id": "1c696ec1-6422-4928-9b61-b278f7c81792",
   "metadata": {},
   "outputs": [
    {
     "data": {
      "text/html": [
       "<h3>Version Information</h3><table><tr><th>Software</th><th>Version</th></tr><tr><td><code>qiskit</code></td><td>1.1.1</td></tr><tr><td><code>qiskit_ibm_runtime</code></td><td>0.25.0</td></tr><tr><td><code>qiskit_aer</code></td><td>0.14.2</td></tr><tr><td><code>qiskit_algorithms</code></td><td>0.3.0</td></tr><tr><td><code>qiskit_nature</code></td><td>0.7.2</td></tr><tr><th colspan='2'>System information</th></tr><tr><td>Python version</td><td>3.11.6</td></tr><tr><td>OS</td><td>Windows</td></tr><tr><td colspan='2'>Sat Aug 03 08:47:03 2024 Central Europe Daylight Time</td></tr></table>"
      ],
      "text/plain": [
       "<IPython.core.display.HTML object>"
      ]
     },
     "metadata": {},
     "output_type": "display_data"
    }
   ],
   "source": [
    "import tutorial_magics\n",
    "\n",
    "%qiskit_version_table"
   ]
  },
  {
   "cell_type": "markdown",
   "id": "e1fda5eb-f3ef-4520-9774-21499f56ab27",
   "metadata": {},
   "source": [
    "$$\\newcommand{\\ket}[1]{\\left|{#1}\\right\\rangle}$$ $$\\newcommand{\\bra}[1]{\\left\\langle{#1}\\right|}$$\n",
    "$$\\newcommand{\\braket}[2]{\\left\\langle{#1}\\middle|{#2}\\right\\rangle}$$\n",
    "$$\\newcommand{\\swch}[3]{\\langle{#1} | #2 | {#3} \\rangle} $$\n",
    "$$\\newcommand{\\d}[]{\\mathrm{d}}$$\n",
    "$$\\newcommand{\\t}[1]{\\mathrm{#1}}$$"
   ]
  },
  {
   "cell_type": "markdown",
   "id": "e1e215b1-b174-49c8-83b7-5d365f7592a9",
   "metadata": {},
   "source": [
    "# Charmonium Hamiltonian"
   ]
  },
  {
   "cell_type": "markdown",
   "id": "97cc995b-bdbd-42b9-baa9-5a3dcb24e550",
   "metadata": {},
   "source": [
    "## Formulace problému"
   ]
  },
  {
   "cell_type": "markdown",
   "id": "44dd6be1-133f-4c0d-a53d-bbef01831391",
   "metadata": {},
   "source": [
    "Články:\n",
    "- *Charmonium: The model*\n",
    "- *Charmonium: the mass spectrum*\n",
    "- *Properties of Low-Lying Charmonium States in a Phenomenological Approach*\n"
   ]
  },
  {
   "cell_type": "markdown",
   "id": "2691d136-417d-477c-a3c7-13e6801e555a",
   "metadata": {},
   "source": [
    "Efektivní jednočásticový potenciál pro $c$ kvark uvězněný v dvoučásticovém $c \\bar c$ nazývaný Cornell potential má podobu:\n",
    "$$\n",
    "\\hat V = -\\frac{\\alpha_s}{r} + \\sigma r\n",
    "$$\n",
    "Nerelativistický Hamiltonián pro $c$ kvark v $c \\bar c$ tedy lze psát:\n",
    "$$\n",
    "\\hat H = 2m_c + \\hat T + \\hat V = 2m_c -\\frac{\\nabla^2}{2\\mu}+\\sigma r -\\frac{\\alpha_s}{r}\n",
    "$$\n",
    "kde $\\mu = \\tfrac{m_c m_c}{m_c + m_c} = \\tfrac{1}{2}m_c$ je redukovaná hmotnost pomocí které lze vyjádřit vnitřní kinetickou energii $c \\bar c$, $m_c$ klidová hmotnost $c$ kvarku. Spolu s konstantami $\\alpha_s$ a $\\sigma$ jsou určeny experimentálně a lze je nalézt v tabulce."
   ]
  },
  {
   "cell_type": "markdown",
   "id": "456ec5c4-3e28-41e5-8b80-f9544bea2d71",
   "metadata": {},
   "source": [
    "Tabulka 1. Konstanty pro výpočty týkající se $c\\bar c$:\n",
    "$$\n",
    "\\begin{array}{cccccc}\n",
    "\\hline \\hline \\alpha_s & \\sqrt{\\sigma} & \\mu & m_c & \\omega & b \\\\\n",
    "\\hline 0.4038 & 441.6 MeV & 635 MeV & 1270 MeV &  571.5 MeV & 1.66 \\times 10^{-3} MeV^{-1} \\\\\n",
    "\\hline\n",
    "\\end{array}\n",
    "$$"
   ]
  },
  {
   "cell_type": "markdown",
   "id": "ef1f1e54-eb08-4740-88a4-158d9d2f0744",
   "metadata": {},
   "source": [
    "Při řešení úlohy se omezíme pouze na stavy $c \\bar c$ s $l=0$, tedy $s$ stavy. Hamiltonián v druhém kvantování bude mít při uvážení 3 orbitlů s nejnižší energií tvar:\n",
    "$$\n",
    "\\hat H_3 = \\sum_{N=0}^{2} \\swch{m}{\\hat H}{n} \\hat a^\\dagger_{m} \\hat a^{\\ }_n\n",
    "$$\n",
    "Orbitaly $\\ket{n}$ volíme jako vlastní $s$ stavy Izotropního harmonického oscilátoru s frekvencí $\\omega$. Užíváme soustavu jednotek $\\hbar = 1$ a zavádíme charakteristickou délku oscilátoru jako $ b = (\\mu \\omega)^{-\\tfrac{1}{2}} $"
   ]
  },
  {
   "cell_type": "markdown",
   "id": "f83ab81f-cd9a-4a8f-b0e4-6d3809cacfb7",
   "metadata": {},
   "source": [
    "Stavy Izotropního Harmonického Oscilátoru (IHO) jsou popsány kvantovými čísly $n,l,m$ jako $\\ket{n,l,m}$. Lze snadno přejít do sférické souřadnicové reprezentace a stavy tak vyjádřit pomocí vlnových funkcí $\\Psi(r,\\theta,\\varphi)$:\n",
    "$$ \\Psi(r,\\theta,\\varphi) = \\braket{r,\\theta,\\varphi\\,}{\\,n,l,m}$$"
   ]
  },
  {
   "cell_type": "markdown",
   "id": "44a598dc-3c5f-411b-8bad-dfb92c4371cf",
   "metadata": {},
   "source": [
    "Hilbertův prostor tvořený těmito funkcemi lze rozložit na Hilbertův prostor kvadraticky integrabilních funkcí na polopřímce $\\mathcal{H}_r$ a Hilbertův prostor kv. integrabilních funkcí na jednotkové kouli $\\mathcal{H}_\\Omega$. Pak $\\mathcal{H} \\sim \\mathcal{H}_r \\otimes \\mathcal{H}_\\Omega$ a vlnové funkce lze rozložit na součin radiální části a sférické části. \n",
    "$$\\Psi(r,\\theta,\\varphi) = R_{n,l}(\\xi)~Y_{l m}(\\theta,\\varphi),$$\n",
    "kde $Y_{l m}(\\theta,\\varphi)$ jsou kulové funkce."
   ]
  },
  {
   "cell_type": "markdown",
   "id": "67cadd2d-8d9e-4832-93f1-e1efaa51c832",
   "metadata": {},
   "source": [
    "Kulové funkce mají obecně tvar:\n",
    "$$ Y_{l m}(\\theta,\\varphi)=C_{l m}\\;P_{l}^{m}(\\cos\\theta)\\;e^{i m\\varphi}, $$\n",
    "kde $P_l^m$ jsou přidružené Legenderovy polynomy. Pro $l=0$ (a tudíž $m=0$) však platí:\n",
    "$$ Y_{00}(\\theta,\\varphi)=\\frac{1}{\\sqrt{4\\pi}} $$\n",
    "Tudíž pro zde uvažované $s$ stavy (tj. $l=0$) je vlnová funkce $\\Psi$ pouze funkcí $r$. Radiální část $R_{n,l}(r)$ vlnové funkce pro IHO má tvar:"
   ]
  },
  {
   "cell_type": "markdown",
   "id": "cf75aab3-fcaf-4ad2-9fb2-760529e6e563",
   "metadata": {},
   "source": [
    "$$ R_{n,l}(r)=K_{n l}\\;\\left(\\tfrac{r}{b}\\right)^{l}\\;e^{-\\frac{r^{2}}{2b^2}\\;}\\;L_{n}^{l+\\frac{1}{2}}((\\tfrac{r}{b})^{2}) $$\n",
    "$$  K_{n l}=2 \\pi^{-\\frac{1}{4}} b^{-\\frac{3}{2}}\\left(\\frac{2^{n+l}n!}{(2n+2l+1)!!}\\right)^{\\frac{1}{2}} $$\n",
    "$$L_{n}^{\\beta}(z)={\\frac{1}{n!}}\\;e^{z}z^{-\\beta}\\;{\\frac{d^{n}}{d z^{n}}}\\;\\left(e^{-z}z^{n+\\beta}\\right)$$"
   ]
  },
  {
   "cell_type": "markdown",
   "id": "0a35d038-45a1-407d-85d5-f11732d6ab0d",
   "metadata": {},
   "source": [
    "Pro $ l=0 $ pak:\n",
    "$$R_n(r) = R_{n,0}(r)=(-1)^{n}{\\sqrt{{\\frac{2n!}{b^{3}\\,\\Gamma(n+3/2)}}}}\\exp\\biggl(-{\\frac{r^{2}}{2b^{2}}}\\biggr)\\,L_{n}^{1/2}\\biggl({\\frac{r^{2}}{b^{2}}}\\biggr)\\,, $$\n",
    "\n",
    "kde $\\Gamma$ je Eulerova gamma funkce."
   ]
  },
  {
   "cell_type": "markdown",
   "id": "86da1ae4-d5bb-490c-ac03-50b7a3b76a05",
   "metadata": {},
   "source": [
    "## Maticové elementy"
   ]
  },
  {
   "cell_type": "markdown",
   "id": "b97ef548-5f61-4513-84bf-43349e11e31b",
   "metadata": {},
   "source": [
    "Výpočet  $H_{mn} = \\swch{m}{\\hat H}{n}$ lze rozdělit na několik částí:"
   ]
  },
  {
   "cell_type": "markdown",
   "id": "226f7c46-699c-4e09-8e72-9347af469866",
   "metadata": {},
   "source": [
    "$$H_{mn} = \\swch{m}{\\hat H}{n} = \\swch{m}{\\hat T}{n} + \\swch{m}{\\hat V}{n} = T_{mn} + V_{mn}.$$"
   ]
  },
  {
   "cell_type": "markdown",
   "id": "1512aa33-e04a-4aae-8e52-cd1207157f34",
   "metadata": {},
   "source": [
    "Pro kinetickou energii $\\hat T$ platí:"
   ]
  },
  {
   "cell_type": "markdown",
   "id": "95f3b8fc-ec2d-4372-bccb-eecd591c2b3c",
   "metadata": {},
   "source": [
    "$$\\hat T = \\frac{1}{2\\mu} \\left( \\frac{\\d^2}{\\d r^2} + \\frac{2}{r} \\frac{\\d}{\\d r} \\right) = \\frac{1}{2\\mu} \\frac{\\d}{\\d r} r^2 \\frac{\\d}{\\d r}. $$\n",
    "\n",
    "Maticový element $T_{mn}$ tak lze vyjádřit pomocí integrálu:\n",
    "\n",
    "$$\\swch{m\\,}{\\hat T}{\\,n}  = (R_m|\\hat T|R_n) = \\frac{1}{2\\mu} \\int_{0}^{\\infty} R_m \\frac{\\d}{\\d r}\\left( r^2 \\frac{\\d R_n}{\\d r}\\right) r^2 \\mathrm{d}r, $$ \n",
    "\n",
    "kde integrace přes úhlovou část vlnových funkcí obdobně jako v případě maticových elementů potenciálu pro $l=0$ k výslednému integrálu nijak nepřispívá. Lze ji tak vynechat."
   ]
  },
  {
   "cell_type": "markdown",
   "id": "d3f19909-5125-421a-995e-33ba2cbd7279",
   "metadata": {},
   "source": [
    "Maticový element potenciálu $V_{mn}$ lze rozložit dále. Potenciál $\\hat V$ má tvar\n",
    "\n",
    "$$\\hat V = -\\frac{\\alpha_s}{r} + \\sigma r.$$\n",
    "\n",
    "Maticový element lze tedy dále rozložit na součet maticových elementů operátoru násobení $r$ a $r^{-1}$\n",
    "\n",
    "$$ \\swch{m}{\\hat V}{n} = -\\alpha_s \\swch{m}{r^{-1}}{n} + \\sigma \\swch{m}{r}{n}.$$\n",
    "\n",
    "Tyto maticové elementy jsou vyjádřeny integrály přes celý prostor prametrizovaný sférickými souřadnicemi. Jak již bylo naznačeno výše, vlnová funkce IHO pro $l=0$ závisí pouze na $r$. Integrací přes úhlové souřadnice je tedy získán celý prostorový úhel $4\\pi$. Tento prostorový úhel je pak vykrácen druhou mocninou kulových funkcí v integrálu. Pro určení maticových elementů $r$ tak stačí pouze integrovat přes radiální souřadnici s přidáním $r^2$ z Jakobiánu sférických souřadnic\n",
    "\n",
    "$$\\swch{m\\,}{r}{\\,n} = \\int_{0}^{2\\pi} \\int_{0}^{\\pi} Y_{00}(\\theta,\\varphi)^2 \\int_{0}^{\\infty} R_{m,0}(r) R_{n,0}(r) \\, r^{3}\\sin\\theta\\,\\mathrm{d}r\\,\\mathrm{d}\\theta\\,\\mathrm{d}\\varphi = \\int_0^{4\\pi} \\tfrac{1}{4\\pi} \\mathrm{d}\\Omega \\int_{0}^{\\infty} R_m R_n \\, r^3 \\mathrm{d}r = \\int_{0}^{\\infty} R_m R_n \\, r^3 \\mathrm{d}r. $$ \n",
    "\n",
    "Obdobně lze postupovat i pro $r^{-1}$\n",
    "\n",
    "$$\\swch{m\\,}{r^{-1}}{\\,n}  = \\int_{0}^{\\infty} R_m R_n \\, r \\mathrm{d}r.$$ "
   ]
  },
  {
   "cell_type": "markdown",
   "id": "fc1ab5bd-5f50-4d93-9bba-92e8524be419",
   "metadata": {},
   "source": [
    "### Vypocty se SymPy"
   ]
  },
  {
   "cell_type": "code",
   "execution_count": 5,
   "id": "7bc165e2-7a19-437d-a520-08c4a7e60a78",
   "metadata": {},
   "outputs": [],
   "source": [
    "from sympy.physics.sho import R_nl\n",
    "from sympy.abc import m, n, r, nu, l, b, psi, omega\n",
    "from sympy import Function, Symbol\n",
    "from sympy import Integral, oo\n",
    "from sympy import *"
   ]
  },
  {
   "cell_type": "markdown",
   "id": "e5d9c193-8a21-49ea-aea3-24a35542a3cf",
   "metadata": {},
   "source": [
    "Knihovna sympy umoňuje symbolické výpočty. Radiální funkce IHO jsou v ní zahrnuty. Pro $l=0$ má tvar:"
   ]
  },
  {
   "cell_type": "code",
   "execution_count": 6,
   "id": "6783694b-2517-40eb-b8ad-c36c9313c905",
   "metadata": {},
   "outputs": [
    {
     "data": {
      "text/latex": [
       "$\\displaystyle \\frac{\\sqrt{\\frac{2^{n + 2} \\left(\\frac{1}{b^{2}}\\right)^{\\frac{3}{2}} n!}{\\left(2 n + 1\\right)!!}} e^{- \\frac{r^{2}}{2 b^{2}}} L_{n}^{\\left(\\frac{1}{2}\\right)}\\left(\\frac{r^{2}}{b^{2}}\\right)}{\\sqrt[4]{\\pi}}$"
      ],
      "text/plain": [
       "sqrt(2**(n + 2)*(b**(-2))**(3/2)*factorial(n)/factorial2(2*n + 1))*exp(-r**2/(2*b**2))*assoc_laguerre(n, 1/2, r**2/b**2)/pi**(1/4)"
      ]
     },
     "execution_count": 6,
     "metadata": {},
     "output_type": "execute_result"
    }
   ],
   "source": [
    "R_nl(n, 0, b**(-2)/2, r)"
   ]
  },
  {
   "cell_type": "markdown",
   "id": "f7460564-8791-4094-b373-ee07f6b9b3b5",
   "metadata": {},
   "source": [
    "Integrály s $R_{nl}$ lze počítat následujícím způsobem: "
   ]
  },
  {
   "cell_type": "code",
   "execution_count": 7,
   "id": "cf80b553-b997-45dd-bfbf-06b6376c5d77",
   "metadata": {},
   "outputs": [
    {
     "name": "stdout",
     "output_type": "stream",
     "text": [
      "Hodnota <0|V|0> je: 90.7944852958506 MeV\n"
     ]
    }
   ],
   "source": [
    "ksi = 1.66*10**(-3) ### Pouze preznacene b, pocitame v MeV a hbar=1\n",
    "i = 0 ### Nastaveni m a n\n",
    "j = 0\n",
    "\n",
    "### Vypocet <0|r|0> a prenasobeni sigma\n",
    "r00 = Integral(\n",
    "    R_nl(i,j,ksi**(-2)/2,r)**2*r**3, \n",
    "    (r, 0, oo)\n",
    ").n()*441.6**2\n",
    "\n",
    "### Vypocet <0|r^-1|0> a prenasobeni alpha\n",
    "invr00 = Integral(\n",
    "    R_nl(i,j,ksi**(-2)/2,r)**2*r, \n",
    "    (r, 0, oo)\n",
    ").n()*0.4038\n",
    "\n",
    "print(\"Hodnota <{}|V|{}> je: {} MeV\".format(i,j,r00 - invr00))"
   ]
  },
  {
   "cell_type": "markdown",
   "id": "8880ee2f-4a4d-427b-9f38-59d7c01c7ddf",
   "metadata": {},
   "source": [
    "### Výpočet $V_{mn} = \\swch{m}{\\hat V}{n}$"
   ]
  },
  {
   "cell_type": "code",
   "execution_count": 8,
   "id": "4df3a8bc-6790-4d8b-aebc-3c354e5d0a64",
   "metadata": {},
   "outputs": [
    {
     "name": "stdout",
     "output_type": "stream",
     "text": [
      "V00 = 90.7944852958506 V01 = 261.180006749393 V02 = -108.514885275498 \n",
      "V10 = 261.180006749393 V11 = 319.179482029386 V12 = 316.718147446441 \n",
      "V20 = -108.514885275498 V21 = 316.718147446441 V22 = 481.318841875256 \n"
     ]
    }
   ],
   "source": [
    "V = np.zeros((3,3))\n",
    "ksi = 1.66*10**(-3)\n",
    "\n",
    "for i in range(3):\n",
    "    for j in range(3):\n",
    "        i1 = Integral(R_nl(i,0,ksi**(-2)/2,r)*R_nl(j,0,ksi**(-2)/2,r)*r**3, (r, 0, oo)).n()\n",
    "        i2 = Integral(R_nl(i,0,ksi**(-2)/2,r)*R_nl(j,0,ksi**(-2)/2,r)*r, (r, 0, oo)).n()\n",
    "        v = (i1*441.6**2 - i2*0.4038)*(-1)**(i+j)\n",
    "        print(\"V{}{} = {}\".format(i,j,v), end = \" \")\n",
    "        if j==2: print(\"\")\n",
    "        V[i][j] = v"
   ]
  },
  {
   "cell_type": "code",
   "execution_count": 9,
   "id": "8c87d5ef-fb17-429c-9e00-96f289abf876",
   "metadata": {},
   "outputs": [
    {
     "name": "stdout",
     "output_type": "stream",
     "text": [
      "[[  90.7944853   261.18000675 -108.51488528]\n",
      " [ 261.18000675  319.17948203  316.71814745]\n",
      " [-108.51488528  316.71814745  481.31884188]]\n"
     ]
    }
   ],
   "source": [
    "print(V)"
   ]
  },
  {
   "cell_type": "code",
   "execution_count": 10,
   "id": "025f90e0-9548-4dfc-96a8-20546daf576f",
   "metadata": {},
   "outputs": [
    {
     "name": "stdout",
     "output_type": "stream",
     "text": [
      "\\begin{tabular}{rrr}\n",
      "\\toprule\n",
      "   90.7945 & 261.18  & -108.515 \\\\\n",
      "  261.18   & 319.179 &  316.718 \\\\\n",
      " -108.515  & 316.718 &  481.319 \\\\\n",
      "\\bottomrule\n",
      "\\end{tabular}\n"
     ]
    }
   ],
   "source": [
    "tab = V\n",
    "print(tabulate(tab, tablefmt=\"latex_booktabs\"))"
   ]
  },
  {
   "cell_type": "markdown",
   "id": "f447cd1e-d107-4721-bca3-e6ccdf7415dd",
   "metadata": {},
   "source": [
    "Matice definovaná elementy $\\hat V_{mn}$ má tak tvar:\n",
    "$$ V_3 =\n",
    "\\begin{pmatrix*}[r]\n",
    "   90.7945 & 261.18  & -108.515 \\\\\n",
    "  261.18   & 319.179 &  316.718 \\\\\n",
    " -108.515  & 316.718 &  481.319 \\\\\n",
    "\\end{pmatrix*} \\  \\t{MeV}\n",
    "$$"
   ]
  },
  {
   "cell_type": "markdown",
   "id": "a6a8df8b-24ac-4003-8ddd-5fe632c2d103",
   "metadata": {},
   "source": [
    "### Výpočet $T_{mn} = \\swch{m}{\\hat T}{n}$"
   ]
  },
  {
   "cell_type": "markdown",
   "id": "812e5145-fc61-4049-a151-06b2caf76eb3",
   "metadata": {},
   "source": [
    "Pro kinetickou energii $\\hat T$ platí:"
   ]
  },
  {
   "cell_type": "markdown",
   "id": "8c69e0cd-8bad-4bf8-a2e5-a3a445395caf",
   "metadata": {},
   "source": [
    "$$\\hat T = \\frac{1}{2\\mu} \\left( \\frac{\\d^2}{\\d r^2} + \\frac{2}{r} \\frac{\\d}{\\d r} \\right) = \\frac{1}{2\\mu} \\frac{\\d}{\\d r} r^2 \\frac{\\d}{\\d r}. $$\n",
    "\n",
    "Maticový element $T_{mn}$ tak lze vyjádřit pomocí integrálu:\n",
    "\n",
    "$$\\swch{m\\,}{\\hat T}{\\,n}  = (R_m|\\hat T|R_n) = \\frac{1}{2\\mu} \\int_{0}^{\\infty} R_m \\frac{\\d}{\\d r}\\left( r^2 \\frac{\\d R_n}{\\d r}\\right) r^2 \\mathrm{d}r, $$ \n",
    "\n",
    "kde integrace přes úhlovou část vlnových funkcí obdobně jako v případě maticových elementů potenciálu pro $l=0$ k výslednému integrálu nijak nepřispívá. Lze ji tak vynechat."
   ]
  },
  {
   "cell_type": "markdown",
   "id": "8b2f97fa-72da-4a11-8aab-c1af12493ef2",
   "metadata": {},
   "source": [
    "Takto definovaná matice má pásový (třídiagonální) tvar, to plyne z vlastností přidružených Laguerrových polynomů [wolfram](https://mathworld.wolfram.com/AssociatedLaguerrePolynomial.html), [tabulky](https://www.amazon.com/exec/obidos/ASIN/0486612724/ref=nosim/ericstreasuretro). \n",
    "Derivací Lguerrova polynomu lze vyjádřit pomocí Lauguerrových polynomů stejného a o jeden nižšího řádu\n",
    "$$ \\frac{d}{d\\,x}\\;L_{n}^{k}\\left(x\\right)=-\\,L_{n-1}^{\\left(k+1\\right)}\\,\\left(x\\right) =x^{-1}\\left[n\\,L_{n}^{k}\\left(x\\right)-\\left(n+k\\right)L_{n-1}^{k}\\left(x\\right)\\right].$$\n",
    "Derivaci funkce $R_{nl}$ tedy lze vyjádřit pomocí funkcí $R_{nl}$ a $R_{(n-1)l}$. Dále, integrál Laguerrových polynomů přenásobených exponenciálou argumentu, což je tvar na který lze funkce $R_{nl}$ a $R_{(n-1)l}$ převést lze vyjádřit jako: \n",
    "$$ \\int_{0}^{\\infty}e^{-x}\\;x^{k}\\;L_{n}^{k}\\left(x\\right)L_{m}^{k}\\left(x\\right)d\\,x=\\frac{\\left(n+k\\right)!}{n!}\\;\\delta_{m\\,n}. $$\n",
    "\n",
    "Pomocí těchto identit lze spočítat maticové elementy kinetické energie [článek](https://arxiv.org/abs/1512.03802):\n",
    "$$\n",
    "\\swch{m,l \\,}{\\, \\hat T \\,}{\\, n,l} =  \\frac{\\omega}{2}   \\begin{cases}\n",
    "        -\\sqrt{n\\left(n+l+{\\frac{1}{2}}\\right)} \\qquad & m=n-1\\\\[.5em]\n",
    "        \\qquad \\left(2n+l+\\frac{3}{2}\\right)  & m=n \\\\[.5em]\n",
    "        -\\sqrt{\\left(n+1\\right)\\left(n+l+{\\textstyle{\\frac{3}{2}}}\\right)} & m=n+1\n",
    "    \\end{cases}\n",
    "$$\n",
    "A pro $l=0$ tedy:\n",
    "$$\n",
    "\\swch{m \\,}{\\, \\hat T \\,}{\\, n} = \\frac{\\omega}{2} \\left\\{ \\left(2n+\\tfrac{3}{2}\\right) \\delta_{m,n} - \\sqrt{n\\left(n+{\\tfrac{1}{2}}\\right)} \\ \\delta_{m+1,n} - \\sqrt{(n+1)\\left(n+{\\tfrac{3}{2}}\\right)} \\ \\delta_{m-1,n} \\right\\}\n",
    "$$"
   ]
  },
  {
   "cell_type": "code",
   "execution_count": 11,
   "id": "ce45cbf6-02b8-40d1-bd03-0129d1d3eb7b",
   "metadata": {},
   "outputs": [],
   "source": [
    "#omega = 571.49\n",
    "omega = 562.9\n",
    "from fractions import Fraction\n",
    "\n",
    "def T_func(m,n):\n",
    "    ### pro spravne hodnoty musi byt vynasobeno omega/2\n",
    "    if n==m:\n",
    "        return 2*n + 3/2\n",
    "    elif (m+1)==n: \n",
    "        return -sqrt(n*(n+Fraction(1,2)))\n",
    "    elif (m-1)==n:\n",
    "        return -sqrt((n+1)*(n+Fraction(3,2)))\n",
    "    else:\n",
    "        return 0"
   ]
  },
  {
   "cell_type": "code",
   "execution_count": 12,
   "id": "8faf6882-de1b-494c-8d8a-107cc5d5a207",
   "metadata": {},
   "outputs": [
    {
     "data": {
      "text/latex": [
       "$\\displaystyle - \\sqrt{5}$"
      ],
      "text/plain": [
       "-sqrt(5)"
      ]
     },
     "execution_count": 12,
     "metadata": {},
     "output_type": "execute_result"
    }
   ],
   "source": [
    "T_func(2,1)"
   ]
  },
  {
   "cell_type": "code",
   "execution_count": 13,
   "id": "529d0ac5-c821-4121-82a4-0bd86d5cc4cf",
   "metadata": {},
   "outputs": [
    {
     "name": "stdout",
     "output_type": "stream",
     "text": [
      "[[ 1.5        -1.22474487  0.        ]\n",
      " [-1.22474487  3.5        -2.23606798]\n",
      " [ 0.         -2.23606798  5.5       ]]\n"
     ]
    }
   ],
   "source": [
    "T = np.zeros((3,3))\n",
    "\n",
    "for i in range(3):\n",
    "    for j in range(3):\n",
    "        T[i,j] = T_func(i,j)\n",
    "\n",
    "T_coeff = T\n",
    "print(T_coeff)"
   ]
  },
  {
   "cell_type": "code",
   "execution_count": 14,
   "id": "6052ce14-07f9-42f8-9fbd-71fc0fc41673",
   "metadata": {},
   "outputs": [
    {
     "name": "stdout",
     "output_type": "stream",
     "text": [
      "[[ 422.175      -344.70444405    0.        ]\n",
      " [-344.70444405  985.075      -629.34133227]\n",
      " [   0.         -629.34133227 1547.975     ]]\n"
     ]
    }
   ],
   "source": [
    "T = T*omega/2\n",
    "print(T)"
   ]
  },
  {
   "cell_type": "code",
   "execution_count": 15,
   "id": "e07c753d-eed8-4815-8539-ef9a8be52ead",
   "metadata": {},
   "outputs": [],
   "source": [
    "tab = T\n",
    "#print(tabulate(tab, tablefmt=\"latex_booktabs\"))"
   ]
  },
  {
   "cell_type": "markdown",
   "id": "449bc020-ad9e-4a4c-9043-679d3fdbb37b",
   "metadata": {},
   "source": [
    "Matice $T_3$ má tedy tvar:\n",
    "$$\n",
    "T_3 = \\frac{\\omega}{2}\n",
    "\\begin{pmatrix*}[c]\n",
    "  \\frac{3}{2} & -\\tfrac{\\sqrt{3}}{2} &    0     \\\\\n",
    " -\\frac{\\sqrt{3}}{2} &  \\frac{7}{2} & \\sqrt{5} \\\\\n",
    "    0     & \\sqrt{5} & \\frac{11}{2}  \\\\\n",
    "\\end{pmatrix*} =\n",
    "\\begin{pmatrix*}[r]\n",
    "  422.175 & -344.704 &    0     \\\\\n",
    " -344.704 &  985.075 & -629.341 \\\\\n",
    "    0     & -629.341 & 1547.97  \\\\ \n",
    "\\end{pmatrix*} \\  \\t{MeV}\n",
    "$$"
   ]
  },
  {
   "cell_type": "markdown",
   "id": "1b1d1c7e-f258-4911-8e78-c5a9a8eba2d9",
   "metadata": {},
   "source": [
    "## Mapování z Fockova prostoru na prostor qubitů"
   ]
  },
  {
   "cell_type": "markdown",
   "id": "db158f8b-71dd-44a8-a484-d2b662d47c44",
   "metadata": {},
   "source": [
    "Nyní je třeba Hamiltonián transformovat z formulace pomocí druhého kvantování na prostor qbitů. To lze snadno provést pomocí tříd a metod z knihovny **qiskit_nature**. Operátor vyjádřený fermionickými operátory lze reprezentovat jako instanci třídy **FermionicOp**. Poté lze použít zabudovanž **JordanWignerMapper** k transformaci na Pauliho řetězce.\n",
    "\n",
    "Matice Hamiltoniánu je dána jako součet matice kinetické energie a potenciálu:"
   ]
  },
  {
   "cell_type": "code",
   "execution_count": 16,
   "id": "0faaf3e0-f881-418f-b210-1f1d79b5dff7",
   "metadata": {},
   "outputs": [
    {
     "data": {
      "text/plain": [
       "array([[ 512.9694853 ,  -83.5244373 , -108.51488528],\n",
       "       [ -83.5244373 , 1304.25448203, -312.62318482],\n",
       "       [-108.51488528, -312.62318482, 2029.29384188]])"
      ]
     },
     "execution_count": 16,
     "metadata": {},
     "output_type": "execute_result"
    }
   ],
   "source": [
    "H = T + V\n",
    "H"
   ]
  },
  {
   "cell_type": "code",
   "execution_count": 17,
   "id": "a1165a5a-94ab-441c-89a3-9a9908e4d3a7",
   "metadata": {},
   "outputs": [],
   "source": [
    "mapper = JordanWignerMapper()\n",
    "mapperB = BravyiKitaevMapper()"
   ]
  },
  {
   "cell_type": "markdown",
   "id": "610fe992-9ba0-43da-9918-b23985ce9c89",
   "metadata": {},
   "source": [
    "Následující funkce vytvoří instanci třídy **SparsePauliOp** představující operátory dané lineárními kombinacemi Pauliho řetězců: "
   ]
  },
  {
   "cell_type": "code",
   "execution_count": 18,
   "id": "d5593755-d215-4742-85a4-7a5f66239aa7",
   "metadata": {},
   "outputs": [],
   "source": [
    "def Hamiltonian(Ham,mapper):\n",
    "\n",
    "    data = {}\n",
    "    data[\"+-\"] = Ham\n",
    "    tensor = PolynomialTensor(data)\n",
    "    operator = FermionicOp.from_polynomial_tensor(tensor)\n",
    "    pauli = mapper.map(operator)\n",
    "    \n",
    "    return pauli\n",
    "\n",
    "def print_pauli(pauli):\n",
    "    for i,j in zip(np.real(pauli.coeffs), pauli.paulis): print(\"{} {} \".format(i,j))"
   ]
  },
  {
   "cell_type": "code",
   "execution_count": 19,
   "id": "60da53ca-7ed4-4c04-a4be-607301b298c9",
   "metadata": {},
   "outputs": [
    {
     "name": "stdout",
     "output_type": "stream",
     "text": [
      "1923.258904600246 III \n",
      "-256.48474264792526 IIZ \n",
      "-41.762218651884865 IYY \n",
      "-41.762218651884865 IXX \n",
      "-54.257442637748944 YZY \n",
      "-54.257442637748944 XZX \n",
      "-652.1272410146928 IZI \n",
      "-156.31159241043719 YYI \n",
      "-156.31159241043719 XXI \n",
      "-1014.646920937628 ZII \n"
     ]
    }
   ],
   "source": [
    "H_pauli = Hamiltonian(H, mapper)\n",
    "print_pauli(Hamiltonian(H, mapper))"
   ]
  },
  {
   "cell_type": "code",
   "execution_count": 20,
   "id": "810eca94-cfd8-4111-98ce-8250b656491c",
   "metadata": {},
   "outputs": [
    {
     "name": "stdout",
     "output_type": "stream",
     "text": [
      "-------  -------  ------  ------  ------  ------  -------  -------  -------  --------\n",
      "III      IIZ      IYY     IXX     YZY     XZX     IZI      YYI      XXI      ZII\n",
      "1923.26  -256.48  -41.76  -41.76  -54.26  -54.26  -652.13  -156.31  -156.31  -1014.65\n",
      "-------  -------  ------  ------  ------  ------  -------  -------  -------  --------\n"
     ]
    }
   ],
   "source": [
    "tab = np.array([H_pauli.paulis.to_labels(), np.real(H_pauli.coeffs).round(2)])\n",
    "\n",
    "#print(tabulate(tab, tablefmt=\"latex_booktabs\"))\n",
    "print(tabulate(tab))"
   ]
  },
  {
   "cell_type": "markdown",
   "id": "76ee6c70-2642-4b75-a3d3-3f13372442a6",
   "metadata": {},
   "source": [
    "Hamiltonián vyjádřený pomocí Pauliho řetězců má tedy podobu:"
   ]
  },
  {
   "cell_type": "markdown",
   "id": "8a08eaf2-e17e-4544-b811-675b291b17b3",
   "metadata": {},
   "source": [
    "$\\begin{array}{|l|c|c|c|c|c|c|c|c|c|c|}\n",
    "\\hline \n",
    "\\t{Řetězec} & III               & IIZ                 & IYY                 & IXX                 & YZY                 & XZX                 & IZI                & YYI                 & XXI                 & ZII                \\\\\n",
    " \\hline\n",
    "\\t{Koeficient} & 1923.26 & -256.48 & -41.76 & -41.76 & -54.26 & -54.26 & -652.13 & -156.31 & -156.31 & -1014.65 \\\\\n",
    "\\hline\n",
    "\\end{array}$"
   ]
  },
  {
   "cell_type": "markdown",
   "id": "9bbb5932-c4d1-4df5-8d45-42157f2fa822",
   "metadata": {},
   "source": [
    "## Ansatz"
   ]
  },
  {
   "cell_type": "markdown",
   "id": "61c6be39-9be9-421a-9b2c-f428d0f4131a",
   "metadata": {},
   "source": [
    "Výchozí stav $c\\bar c$ je $\\ket{100}$, tedy obsazený nejnižší stav. Chceme sestrojit ansatz $\\hat U(\\vec \\theta)$, který aplikací na $\\ket{100}$ umožní parametrizovat libovolný excitovaný stav pomocí parametrů $\\vec \\theta$. Použijeme UCC ansatz s jednoduchými excitacemi. Možné excitace jsou:\n",
    "$$\n",
    "\\hat a^\\dagger_1 \\hat a_0, \\  \\hat a^\\dagger_2 \\hat a_0\n",
    "$$\n",
    "Excitační operátor $\\hat T$ tak bude mít tvar:\n",
    "$$\n",
    "\\hat T = \\mathrm{e}^{\\theta_1 \\hat a^\\dagger_1 \\hat a_0 + \\theta_2 \\hat a^\\dagger_2 \\hat a_0}\n",
    "$$\n",
    "UCC ansatz pak bude mít následující tvar:\n",
    "$$\n",
    "\\hat U(\\theta_1,\\theta_2) =  \\mathrm{e}^{\\hat T - \\hat T^\\dagger} = \\exp \\left[ \\theta_1 (\\hat a^\\dagger_1 \\hat a_0 - a^\\dagger_0 \\hat a_1) + \\theta_2 (\\hat a^\\dagger_2 \\hat a_0 - a^\\dagger_0 \\hat a_2) \\right]\n",
    "$$\n",
    "V prvním řádu Trotterizace lze ansatz rozložit jako:\n",
    "$$\n",
    "\\t{e}^{\\theta_1 (\\hat a^\\dagger_1 \\hat a_0 - a^\\dagger_0 \\hat a_1)} + \\t{e}^{\\theta_2 (\\hat a^\\dagger_2 \\hat a_0 - a^\\dagger_0 \\hat a_2)}\n",
    "$$\n",
    "Jordan Wignerova transformaci $(\\hat a^\\dagger_1 \\hat a_0 - a^\\dagger_0 \\hat a_1)$ a $(\\hat a^\\dagger_2 \\hat a_0 - \\hat a^\\dagger_0 \\hat a_2)$ lze opět získat užitím knihovny **qiskit_nature**:"
   ]
  },
  {
   "cell_type": "code",
   "execution_count": 21,
   "id": "a7b862fb-7c77-4687-9d26-9eb00b07ef9e",
   "metadata": {},
   "outputs": [],
   "source": [
    "op1 = FermionicOp(\n",
    "    {\n",
    "        \"+_1 -_0\": 1.0,\n",
    "        \"+_0 -_1\": -1.0,\n",
    "    },\n",
    "    num_spin_orbitals=3,\n",
    ")\n",
    "\n",
    "exp1 = JordanWignerMapper().map(op1)"
   ]
  },
  {
   "cell_type": "code",
   "execution_count": 22,
   "id": "d7d39846-a1f7-49b3-817e-4ca0a68d4874",
   "metadata": {},
   "outputs": [],
   "source": [
    "op2 = FermionicOp(\n",
    "    {\n",
    "        \"+_2 -_0\": 1.0,\n",
    "        \"+_0 -_2\": -1.0,\n",
    "    },\n",
    "    num_spin_orbitals=3,\n",
    ")\n",
    "\n",
    "exp2 = JordanWignerMapper().map(op2)"
   ]
  },
  {
   "cell_type": "code",
   "execution_count": 23,
   "id": "396955d6-7df7-4671-b666-02a276290270",
   "metadata": {},
   "outputs": [
    {
     "name": "stdout",
     "output_type": "stream",
     "text": [
      "SparsePauliOp(['IXY', 'IYX'],\n",
      "              coeffs=[0.+0.5j, 0.-0.5j])\n",
      "SparsePauliOp(['XZY', 'YZX'],\n",
      "              coeffs=[0.+0.5j, 0.-0.5j])\n"
     ]
    },
    {
     "data": {
      "text/plain": [
       "SparsePauliOp(['IXY', 'IYX', 'XZY', 'YZX'],\n",
       "              coeffs=[0.+0.5j, 0.-0.5j, 0.+0.5j, 0.-0.5j])"
      ]
     },
     "execution_count": 23,
     "metadata": {},
     "output_type": "execute_result"
    }
   ],
   "source": [
    "print(exp1)\n",
    "print(exp2)\n",
    "ucc_exp = exp1+exp2\n",
    "ucc_exp"
   ]
  },
  {
   "cell_type": "markdown",
   "id": "a92c189d-28ba-489c-af06-4807523479d8",
   "metadata": {},
   "source": [
    "Ansatz po JW transformaci:\n",
    "$$\n",
    "\\hat U(\\theta_1, \\theta_2) = \\t{e}^{i\\tfrac{\\theta_1}{2}(IXY-IYX)} \\t{e}^{i\\tfrac{\\theta_2}{2}(XZY-YZX)}\n",
    "$$"
   ]
  },
  {
   "cell_type": "markdown",
   "id": "d55818c6-b5e6-4180-91e8-7116b046d67c",
   "metadata": {},
   "source": [
    "Funkce, která vytvoří obvod odpovídající $\\t{e}^{i\\tfrac{\\theta_2}{2}\\hat P}$, kde $\\hat P$ je Pauliho řetězec:"
   ]
  },
  {
   "cell_type": "code",
   "execution_count": 24,
   "id": "138ffc06-bf90-4886-8ae0-bb34af42788c",
   "metadata": {},
   "outputs": [],
   "source": [
    "def pauli_exp_append(pauli_str,params = None, index = 0, pm = 1):\n",
    "\n",
    "    if params == None:\n",
    "        theta = Parameter(\"theta{}\".format(index))\n",
    "    else:\n",
    "        theta = params[index]\n",
    "\n",
    "    qc = QuantumCircuit(pauli_str.num_qubits, name=\"exp(ip{})\".format(str(pauli_str)))\n",
    "    num_q = pauli_str.num_qubits\n",
    "    p = str(pauli_str)\n",
    "    pr = str(pauli_str)[::-1]\n",
    "    \n",
    "    for i in range(num_q):\n",
    "\n",
    "        if pr[i] == \"X\": \n",
    "            qc.h(i)\n",
    "        elif pr[i] == \"Y\":\n",
    "            qc.sdg(i)\n",
    "            qc.h(i)\n",
    "        else:\n",
    "            pass\n",
    "\n",
    "    for i in range(num_q-1,0,-1):\n",
    "\n",
    "        if pr[i] == \"I\":\n",
    "            pass\n",
    "        else:\n",
    "            j = i-1\n",
    "            while j >= 0:\n",
    "                if pr[j] == \"I\": \n",
    "                    j -= 1\n",
    "                else:\n",
    "                    qc.cx(i,j)\n",
    "                    break\n",
    "    i = 0\n",
    "    while i < num_q:\n",
    "        if pr[i] != \"I\":\n",
    "            if pm == 1:\n",
    "                qc.rz(theta, i)\n",
    "            else:\n",
    "                qc.rz(-theta, i)\n",
    "            break\n",
    "        else:\n",
    "            i+=1\n",
    "\n",
    "\n",
    "    for i in range(num_q-1):\n",
    "\n",
    "        if pr[i] == \"I\":\n",
    "            pass\n",
    "        else:\n",
    "            j = i+1\n",
    "            while j < num_q:\n",
    "                if pr[j] == \"I\": \n",
    "                    j += 1\n",
    "                else:\n",
    "                    qc.cx(j,i)\n",
    "                    break\n",
    "    \n",
    "    for i in range(num_q):\n",
    "\n",
    "        if pr[i] == \"X\": \n",
    "            qc.h(i)\n",
    "        elif pr[i] == \"Y\":\n",
    "            qc.h(i)\n",
    "            qc.s(i)\n",
    "        else:\n",
    "            pass\n",
    "        \n",
    "    \n",
    "    return qc"
   ]
  },
  {
   "cell_type": "markdown",
   "id": "4b73da87-1986-41ed-8feb-1f9cbc78e532",
   "metadata": {},
   "source": [
    "### UCC Ansatz"
   ]
  },
  {
   "cell_type": "code",
   "execution_count": 25,
   "id": "a8b88d1c-c6f2-4b3a-b961-58c7fa2c225f",
   "metadata": {},
   "outputs": [
    {
     "data": {
      "text/plain": [
       "[Parameter(theta0), Parameter(theta1)]"
      ]
     },
     "execution_count": 25,
     "metadata": {},
     "output_type": "execute_result"
    }
   ],
   "source": [
    "size = ucc_exp.size\n",
    "sgn = np.sign(np.imag(ucc_exp.coeffs))\n",
    "params = [Parameter(\"theta{}\".format(i)) for i in range(size//2)]\n",
    "params"
   ]
  },
  {
   "cell_type": "code",
   "execution_count": 26,
   "id": "21bf357b-e6c5-4a7f-aaea-79d1373eca30",
   "metadata": {},
   "outputs": [
    {
     "data": {
      "image/png": "[encoded data removed]",
      "text/plain": [
       "<Figure size 2210.55x618.722 with 1 Axes>"
      ]
     },
     "execution_count": 26,
     "metadata": {},
     "output_type": "execute_result"
    }
   ],
   "source": [
    "ansatz = QuantumCircuit(ucc_exp.num_qubits)\n",
    "ansatz.x(0)\n",
    "\n",
    "i = 0\n",
    "for pauli in ucc_exp.paulis:\n",
    "    ansatz.compose(pauli_exp_append(pauli, params = params, index = i//2, pm = sgn[i]) , inplace=True)\n",
    "    i+=1\n",
    "\n",
    "ansatz.draw(\"mpl\", style=my_style)"
   ]
  },
  {
   "cell_type": "code",
   "execution_count": 27,
   "id": "f2a9204c-ddeb-4f9b-a8db-7e5c7d56c2ef",
   "metadata": {},
   "outputs": [],
   "source": [
    "qubit_mapper = JordanWignerMapper()\n",
    "ucc = UCC(3, (1,0), 's', qubit_mapper,beta_spin=False)\n",
    "#ucc.decompose().decompose().draw(\"mpl\", style = my_style)"
   ]
  },
  {
   "cell_type": "code",
   "execution_count": 28,
   "id": "72d09838-94e5-426c-a8d1-a8c4990799c1",
   "metadata": {},
   "outputs": [
    {
     "data": {
      "image/png": "[encoded data removed]",
      "text/plain": [
       "<Figure size 2210.55x1120.39 with 1 Axes>"
      ]
     },
     "execution_count": 28,
     "metadata": {},
     "output_type": "execute_result"
    }
   ],
   "source": [
    "ucc.decompose().decompose().decompose().draw(\"mpl\", style = my_style)"
   ]
  },
  {
   "cell_type": "markdown",
   "id": "abc34f8d-0770-40a6-aad2-dec2e67665fc",
   "metadata": {
    "jp-MarkdownHeadingCollapsed": true
   },
   "source": [
    "### EfficientSU2 Ansatz"
   ]
  },
  {
   "cell_type": "code",
   "execution_count": 64,
   "id": "d6486523-95f9-4fde-afab-f81ac5529159",
   "metadata": {},
   "outputs": [
    {
     "data": {
      "image/png": "[encoded data removed]",
      "text/plain": [
       "<Figure size 1290.83x284.278 with 1 Axes>"
      ]
     },
     "execution_count": 64,
     "metadata": {},
     "output_type": "execute_result"
    }
   ],
   "source": [
    "from qiskit.circuit.library import EfficientSU2\n",
    "\n",
    "effsu2 = EfficientSU2(3)\n",
    "effsu2.decompose().draw(\"mpl\", style = my_style)"
   ]
  },
  {
   "cell_type": "markdown",
   "id": "ead9d028-b807-4287-94b2-bf7e7cfbf663",
   "metadata": {
    "jp-MarkdownHeadingCollapsed": true
   },
   "source": [
    "### TwoLocal Ansatz"
   ]
  },
  {
   "cell_type": "code",
   "execution_count": 65,
   "id": "c54349d5-5ee2-4a19-8609-8d045a6db1d3",
   "metadata": {},
   "outputs": [
    {
     "data": {
      "image/png": "[encoded data removed]",
      "text/plain": [
       "<Figure size 872.774x284.278 with 1 Axes>"
      ]
     },
     "execution_count": 65,
     "metadata": {},
     "output_type": "execute_result"
    }
   ],
   "source": [
    "from qiskit.circuit.library import TwoLocal\n",
    "\n",
    "num_qubits = 3\n",
    "rotation_blocks = ['ry','rz']\n",
    "entanglement_blocks = 'cz'\n",
    "entanglement = 'full'\n",
    "\n",
    "twolocal = TwoLocal(num_qubits, rotation_blocks, entanglement_blocks, entanglement, reps=1, insert_barriers=True)\n",
    "num_params = ansatz.num_parameters\n",
    "\n",
    "twolocal.decompose().draw('mpl', style = my_style)"
   ]
  },
  {
   "cell_type": "markdown",
   "id": "d67bd48f-9160-4db2-a06f-49b4abc924aa",
   "metadata": {},
   "source": [
    "# VQE"
   ]
  },
  {
   "cell_type": "markdown",
   "id": "c6dc68cd-d89e-4dda-95b9-d2fca8de6a77",
   "metadata": {},
   "source": [
    "Zde probíhá nastavení backendu, buď simulátor kvantového počítače z IBM_runtime nebo AerSimulator. Dále lze zvolit fermion to qbit mapper."
   ]
  },
  {
   "cell_type": "code",
   "execution_count": 31,
   "id": "ee0da67a-d9aa-4a41-b4d4-1bf6eb1597ec",
   "metadata": {},
   "outputs": [
    {
     "name": "stdout",
     "output_type": "stream",
     "text": [
      "1923.258904600246 III \n",
      "-256.48474264792526 IIZ \n",
      "-41.762218651884865 IYY \n",
      "-41.762218651884865 IXX \n",
      "-54.257442637748944 YZY \n",
      "-54.257442637748944 XZX \n",
      "-652.1272410146928 IZI \n",
      "-156.31159241043719 YYI \n",
      "-156.31159241043719 XXI \n",
      "-1014.646920937628 ZII \n"
     ]
    }
   ],
   "source": [
    "mapper = JordanWignerMapper()\n",
    "#mapper = BravyiKitaevMapper()\n",
    "\n",
    "#service = QiskitRuntimeService(channel=\"ibm_quantum\", token=\"3995d18757f7a07fadfe6c00d94ce4d7aa20b35e38dc33f95f4023b0a7132918a8ed7b0a2c45a5f01e284d24f7145c1134071cc04a94f37cd7405e2420fff658\")\n",
    "#backend = service.least_busy(operational=True, simulator=False)\n",
    "\n",
    "#backend = FakeSherbrooke()\n",
    "backend = AerSimulator()\n",
    "\n",
    "H_pauli = Hamiltonian(H, mapper)\n",
    "print_pauli(Hamiltonian(H, mapper))"
   ]
  },
  {
   "cell_type": "code",
   "execution_count": 32,
   "id": "28665d34-145d-42b7-b751-6478cf26233c",
   "metadata": {},
   "outputs": [
    {
     "data": {
      "text/plain": [
       "'aer_simulator'"
      ]
     },
     "execution_count": 32,
     "metadata": {},
     "output_type": "execute_result"
    }
   ],
   "source": [
    "backend.name"
   ]
  },
  {
   "cell_type": "code",
   "execution_count": 33,
   "id": "7932c40f",
   "metadata": {
    "id": "7932c40f",
    "tags": []
   },
   "outputs": [
    {
     "data": {
      "image/png": "[encoded data removed]",
      "text/plain": [
       "<Figure size 2210.55x618.722 with 1 Axes>"
      ]
     },
     "execution_count": 33,
     "metadata": {},
     "output_type": "execute_result"
    }
   ],
   "source": [
    "num_params = ansatz.num_parameters\n",
    "ansatz.draw('mpl', style = my_style)\n",
    "#print(ansatz.draw('latex_source'))"
   ]
  },
  {
   "cell_type": "code",
   "execution_count": 34,
   "id": "43c88439",
   "metadata": {
    "id": "43c88439"
   },
   "outputs": [
    {
     "data": {
      "image/png": "[encoded data removed]",
      "text/plain": [
       "<Figure size 2043.33x284.278 with 1 Axes>"
      ]
     },
     "execution_count": 34,
     "metadata": {},
     "output_type": "execute_result"
    }
   ],
   "source": [
    "optimization_level_answer = 3 \n",
    "\n",
    "pm = generate_preset_pass_manager(backend=backend,optimization_level=optimization_level_answer)\n",
    "\n",
    "isa_circuit = pm.run(ansatz) \n",
    "isa_circuit.draw('mpl', idle_wires=False, style = my_style)"
   ]
  },
  {
   "cell_type": "code",
   "execution_count": 35,
   "id": "4d4d5a51-9352-469e-ba7f-610d813522a1",
   "metadata": {
    "id": "930c1e14"
   },
   "outputs": [
    {
     "name": "stdout",
     "output_type": "stream",
     "text": [
      "1923.258904600246 III \n",
      "-256.48474264792526 IIZ \n",
      "-41.762218651884865 IYY \n",
      "-41.762218651884865 IXX \n",
      "-54.257442637748944 YZY \n",
      "-54.257442637748944 XZX \n",
      "-652.1272410146928 IZI \n",
      "-156.31159241043719 YYI \n",
      "-156.31159241043719 XXI \n",
      "-1014.646920937628 ZII \n"
     ]
    }
   ],
   "source": [
    "hamiltonian_isa = H_pauli.apply_layout(layout=isa_circuit.layout)\n",
    "print_pauli(hamiltonian_isa)"
   ]
  },
  {
   "cell_type": "code",
   "execution_count": 36,
   "id": "c197b08f-c1db-440f-8f55-78c53e690e38",
   "metadata": {},
   "outputs": [],
   "source": [
    "def cost_func(params, ansatz, hamiltonian, estimator, callback_dict, verbose = True):\n",
    "\n",
    "    pub = (ansatz, [hamiltonian], [params])\n",
    "    result = estimator.run(pubs=[pub]).result()\n",
    "    energy = result[0].data.evs[0]\n",
    "\n",
    "    callback_dict[\"iters\"] += 1\n",
    "    callback_dict[\"prev_vector\"] = params\n",
    "    callback_dict[\"cost_history\"].append(energy)\n",
    "    callback_dict[\"result\"].append(result)\n",
    "\n",
    "    if verbose == True:\n",
    "        if callback_dict[\"iters\"] % 10 + 1 == 1:\n",
    "            print(\"Iterace {}: {} MeV \".format(callback_dict[\"iters\"], energy))\n",
    "    \n",
    "    return energy, result\n",
    "\n",
    "def cost_func_2(*args, **kwargs):\n",
    "    energy, result = cost_func(*args, **kwargs)\n",
    "    return energy"
   ]
  },
  {
   "cell_type": "markdown",
   "id": "e28a9f15-057b-46f6-b727-e5ba6a7b3150",
   "metadata": {
    "jp-MarkdownHeadingCollapsed": true
   },
   "source": [
    "### Manual run"
   ]
  },
  {
   "cell_type": "code",
   "execution_count": 478,
   "id": "9f40eea6",
   "metadata": {
    "id": "9f40eea6"
   },
   "outputs": [
    {
     "data": {
      "text/plain": [
       "array([6.20000887, 1.71139191])"
      ]
     },
     "execution_count": 478,
     "metadata": {},
     "output_type": "execute_result"
    }
   ],
   "source": [
    "callback_dict = {\n",
    "    \"prev_vector\": None,\n",
    "    \"iters\": 0,\n",
    "    \"cost_history\": [],\n",
    "    \"result\": []\n",
    "}\n",
    "\n",
    "x0 = 2 * np.pi * np.random.random(num_params)\n",
    "x0"
   ]
  },
  {
   "cell_type": "code",
   "execution_count": 480,
   "id": "4e35301f-f14f-44a0-b2d6-dc73a0a5c0a5",
   "metadata": {},
   "outputs": [
    {
     "name": "stdout",
     "output_type": "stream",
     "text": [
      "Iterace 40: 577.4626342402482 MeV \n",
      "Iterace 50: 492.69060469355225 MeV \n",
      "Iterace 60: 494.8618153631958 MeV \n"
     ]
    }
   ],
   "source": [
    "with Session(backend=backend) as session:\n",
    "    estimator = Estimator(mode=session)\n",
    "\n",
    "    res = minimize(\n",
    "        cost_func_2,\n",
    "        x0,\n",
    "        args=(isa_circuit, hamiltonian_isa, estimator, callback_dict),\n",
    "        method=\"cobyla\",\n",
    "        options={'maxiter': 100})"
   ]
  },
  {
   "cell_type": "markdown",
   "id": "596f1352-eac5-49b4-aa17-5bf4c28d7914",
   "metadata": {},
   "source": [
    "**AER SIMULÁTOR SE ŠUMEM**"
   ]
  },
  {
   "cell_type": "code",
   "execution_count": null,
   "id": "2683fac9-c041-4dd1-b7ce-f21231979789",
   "metadata": {},
   "outputs": [],
   "source": [
    "#backend = FakeSherbrooke()\n",
    "#backend = AerSimulator()\n",
    "\n",
    "callback_dict2 = {\n",
    "    \"prev_vector\": None,\n",
    "    \"iters\": 0,\n",
    "    \"cost_history\": [],\n",
    "    \"result\": []\n",
    "}\n",
    "\n",
    "aer = AerSimulator.from_backend(backend)\n",
    "#aer=AerSimulator()\n",
    "estimator = Estimator(mode=aer)\n",
    "\n",
    "res = minimize(\n",
    "        cost_func_2,\n",
    "        x0,\n",
    "        args=(isa_circuit, hamiltonian_isa, estimator, callback_dict2),\n",
    "        method=\"Nelder-Mead\",\n",
    "        options={'maxiter': 100})"
   ]
  },
  {
   "cell_type": "code",
   "execution_count": 367,
   "id": "83a37869",
   "metadata": {
    "id": "83a37869"
   },
   "outputs": [
    {
     "data": {
      "image/png": "[encoded data removed]",
      "text/plain": [
       "<Figure size 640x480 with 1 Axes>"
      ]
     },
     "metadata": {},
     "output_type": "display_data"
    }
   ],
   "source": [
    "fig, ax = plt.subplots()\n",
    "plt.plot(range(callback_dict[\"iters\"])[50:-1], callback_dict[\"cost_history\"][50:-1],linestyle=\"dashed\", color = \"k\")\n",
    "plt.xlabel(\"Iteration\")\n",
    "plt.ylabel(\"Cost\")\n",
    "plt.draw()"
   ]
  },
  {
   "cell_type": "code",
   "execution_count": 404,
   "id": "17561761-77d8-4f51-b523-d4e65235e8c5",
   "metadata": {},
   "outputs": [],
   "source": [
    "stds = np.array([callback_dict[\"result\"][i][0].data.stds[0] for i in range(callback_dict[\"iters\"])])\n",
    "evs = np.array([callback_dict[\"result\"][i][0].data.evs[0] for i in range(callback_dict[\"iters\"])])\n",
    "run = 1"
   ]
  },
  {
   "cell_type": "code",
   "execution_count": 405,
   "id": "32f45eca-1505-4441-99ed-060716b6f2f9",
   "metadata": {},
   "outputs": [],
   "source": [
    "energy = res[\"fun\"]\n",
    "meas_err = stds[np.where(evs == res[\"fun\"])[0][0]]"
   ]
  },
  {
   "cell_type": "code",
   "execution_count": 406,
   "id": "27281e3c-fee8-421e-86bb-49dfdfc5eaec",
   "metadata": {},
   "outputs": [
    {
     "name": "stdout",
     "output_type": "stream",
     "text": [
      "Run 1: Dosaženo minima 510.0 +- 6.0 MeV\n"
     ]
    }
   ],
   "source": [
    "print(\"Run {}: Dosaženo minima {} +- {} MeV\".format(run, energy.round(0), meas_err.round(0) ))"
   ]
  },
  {
   "cell_type": "code",
   "execution_count": 383,
   "id": "c2ea9925-3947-4ad2-8596-ae0baff1ff91",
   "metadata": {},
   "outputs": [],
   "source": [
    "optimizer = \"Nelder-Mead\""
   ]
  },
  {
   "cell_type": "code",
   "execution_count": 387,
   "id": "d53ace24-3006-45fc-b207-d0803d6dadba",
   "metadata": {},
   "outputs": [],
   "source": [
    "np.savetxt(\"./data/run_{}_{}.csv\".format(run,optimizer), np.array([evs,stds]).T , delimiter = \",\")"
   ]
  },
  {
   "cell_type": "markdown",
   "id": "d3b10b46-98a2-40d6-ae07-ab1be43b0950",
   "metadata": {},
   "source": [
    "### Automatized run:"
   ]
  },
  {
   "cell_type": "code",
   "execution_count": null,
   "id": "c42b7070-fdde-4ef4-8102-0b5e0b6270a1",
   "metadata": {
    "scrolled": true
   },
   "outputs": [
    {
     "name": "stdout",
     "output_type": "stream",
     "text": [
      "Run 0: Dosaženo minima 1107.0 +- 30.0 MeV\n",
      "Run 1: Dosaženo minima 463.0 +- 9.0 MeV\n"
     ]
    }
   ],
   "source": [
    "#optimizer = \"cobyla\"\n",
    "optimizer = \"Nelder-Mead\"\n",
    "name = backend.name\n",
    "\n",
    "experiment = \"omega562\"\n",
    "batch_size = 25\n",
    "iters = 500\n",
    "\n",
    "result = []\n",
    "\n",
    "for run in range(batch_size):\n",
    "    \n",
    "    callback_dict_auto = {\n",
    "    \"prev_vector\": None,\n",
    "    \"iters\": 0,\n",
    "    \"cost_history\": [],\n",
    "    \"result\": []\n",
    "    }\n",
    "\n",
    "    x0 = 2 * np.pi * np.random.random(num_params)\n",
    "\n",
    "    with Session(backend=backend) as session:\n",
    "        estimator = Estimator(mode=session)\n",
    "        estimator.options.default_shots = 1000\n",
    "\n",
    "        res = minimize(\n",
    "            cost_func_2,\n",
    "            x0,\n",
    "            args=(isa_circuit, hamiltonian_isa, estimator, callback_dict_auto, False),\n",
    "            method=optimizer,\n",
    "            options={'maxiter': iters},)\n",
    "\n",
    "    stds = np.array([callback_dict_auto[\"result\"][i][0].data.stds[0] for i in range(callback_dict_auto[\"iters\"])])\n",
    "    evs = np.array([callback_dict_auto[\"result\"][i][0].data.evs[0] for i in range(callback_dict_auto[\"iters\"])])\n",
    "    \n",
    "    energy = res[\"fun\"]\n",
    "    meas_err = stds[np.where(evs == res[\"fun\"])[0][0]]\n",
    "\n",
    "    result.append(np.array([energy, meas_err]))\n",
    "\n",
    "    print(\"Run {}: Dosaženo minima {} +- {} MeV\".format(run, energy.round(0), meas_err.round(0) ))\n",
    "\n",
    "    #np.savetxt(\"./data/{}_{}_run_{}_{}.csv\".format(experiment,name,run,optimizer), np.array([evs,stds]).T , delimiter = \",\")\n",
    "\n",
    "\n",
    "np.savetxt(\"./data/{}_{}_{}.csv\".format(experiment,name,optimizer), np.array(result) , delimiter = \",\")\n",
    "    "
   ]
  },
  {
   "cell_type": "code",
   "execution_count": 563,
   "id": "49111f93-db9c-4802-8d9e-aace948c1afd",
   "metadata": {},
   "outputs": [
    {
     "name": "stdout",
     "output_type": "stream",
     "text": [
      "Výsledná hodnota jest 610.8 +- 160.5\n"
     ]
    }
   ],
   "source": [
    "result_np = np.array(result).T\n",
    "\n",
    "print(\"Výsledná hodnota jest {} +- {}\".format( np.mean(reject_outliers(result_np[0])).round(1), np.std(reject_outliers(result_np[0])).round(1) ) )"
   ]
  },
  {
   "cell_type": "code",
   "execution_count": 560,
   "id": "4b7486cf-e5da-4e9a-abbe-b39d94eb0eb5",
   "metadata": {},
   "outputs": [
    {
     "name": "stdout",
     "output_type": "stream",
     "text": [
      "501.74837596723427\n",
      "16.520645634761287\n",
      "2.249608722617421\n"
     ]
    }
   ],
   "source": [
    "print( np.mean(reject_outliers(result_np[0])) )\n",
    "print( np.std(reject_outliers(result_np[0])) )\n",
    "print( np.sqrt(np.sum(result_np[1]**2))/100 )"
   ]
  },
  {
   "cell_type": "code",
   "execution_count": 564,
   "id": "ed802489-0d20-4487-95a6-6af27e20a185",
   "metadata": {},
   "outputs": [
    {
     "data": {
      "text/plain": [
       "array([489.10173849, 478.56210133, 481.75900166, 782.32156966,\n",
       "       482.23254248, 914.84612687, 565.90798705, 791.29819533,\n",
       "       511.54359017])"
      ]
     },
     "execution_count": 564,
     "metadata": {},
     "output_type": "execute_result"
    }
   ],
   "source": [
    "reject_outliers(result_np[0])"
   ]
  },
  {
   "cell_type": "markdown",
   "id": "87784c9f-5d21-42e2-9d36-9b6f37706587",
   "metadata": {
    "jp-MarkdownHeadingCollapsed": true
   },
   "source": [
    "### one run"
   ]
  },
  {
   "cell_type": "code",
   "execution_count": 446,
   "id": "e84652df-d3f5-4af6-8ce4-445f2bd18d4f",
   "metadata": {},
   "outputs": [
    {
     "name": "stdout",
     "output_type": "stream",
     "text": [
      "Iterace 10: 513.5380924280869 MeV \n",
      "Iterace 20: 503.16942124836953 MeV \n",
      "Iterace 30: 502.2578954847355 MeV \n"
     ]
    }
   ],
   "source": [
    "optimizer = \"cobyla\"\n",
    "#optimizer = \"Nelder-Mead\"\n",
    "iters = 100\n",
    "experiment = \"test\"\n",
    "\n",
    "\n",
    "\n",
    "run = 1\n",
    "\n",
    "callback_dict_auto = {\n",
    "    \"prev_vector\": None,\n",
    "    \"iters\": 0,\n",
    "    \"cost_history\": [],\n",
    "    \"result\": []\n",
    "}\n",
    "\n",
    "x0 = 2 * np.pi * np.random.random(num_params)\n",
    "\n",
    "with Session(backend=backend) as session:\n",
    "    estimator = Estimator(mode=session)\n",
    "\n",
    "    res = minimize(\n",
    "        cost_func_2,\n",
    "        x0,\n",
    "        args=(isa_circuit, hamiltonian_isa, estimator, callback_dict_auto),\n",
    "        method=optimizer,\n",
    "        options={'maxiter': iters},)"
   ]
  },
  {
   "cell_type": "code",
   "execution_count": 447,
   "id": "8a5e8fe9-cb50-43b4-8be8-6bbc18d60d9b",
   "metadata": {},
   "outputs": [],
   "source": [
    "stds = np.array([callback_dict_auto[\"result\"][i][0].data.stds[0] for i in range(callback_dict_auto[\"iters\"])])\n",
    "evs = np.array([callback_dict_auto[\"result\"][i][0].data.evs[0] for i in range(callback_dict_auto[\"iters\"])])"
   ]
  },
  {
   "cell_type": "code",
   "execution_count": 448,
   "id": "af5ee013-1da7-473d-a808-48f92952039b",
   "metadata": {},
   "outputs": [],
   "source": [
    "energy = res[\"fun\"]\n",
    "meas_err = stds[np.where(evs == res[\"fun\"])[0][0]]"
   ]
  },
  {
   "cell_type": "code",
   "execution_count": 449,
   "id": "c603c6ce-f123-4a4b-baee-ea9b4618d61b",
   "metadata": {},
   "outputs": [
    {
     "name": "stdout",
     "output_type": "stream",
     "text": [
      "Run 1: Dosaženo minima 503.0 +- 7.0 MeV\n"
     ]
    }
   ],
   "source": [
    "print(\"Run {}: Dosaženo minima {} +- {} MeV\".format(run, energy.round(0), meas_err.round(0) ))"
   ]
  },
  {
   "cell_type": "code",
   "execution_count": 451,
   "id": "4e43f1fd-0b51-4aff-aaad-ca3ab821a9eb",
   "metadata": {},
   "outputs": [],
   "source": [
    "np.savetxt(\"./data/{}_run_{}_{}.csv\".format(experiment,run,optimizer), np.array([evs,stds]).T , delimiter = \",\")"
   ]
  },
  {
   "cell_type": "markdown",
   "id": "bdbbc8ef-c4f1-46d6-81a4-fef4a2b0aace",
   "metadata": {},
   "source": []
  },
  {
   "cell_type": "markdown",
   "id": "a1ef101e-c645-47c7-8ce6-fbd083e23c28",
   "metadata": {},
   "source": [
    "### <span style=\"font-size:2em;\">VÝSLEDKY</span>"
   ]
  },
  {
   "cell_type": "markdown",
   "id": "6ed9e031-6f3a-4ec2-a961-d81c5801ffed",
   "metadata": {},
   "source": [
    "**RESULTS:**\n",
    "Výskedná hodnota odpovídá základnímu stavu Hamiltoniánu bez klidové hmotnosti $c$ a $\\bar c$ kvarku. Jde tedy o \"vazebnou energii\" $c \\bar c$. Hmotnost charmonia získáme přičtením klidových hmotností $m_c = m_{\\bar c} = 1270 \\pm 20$ Mev.\n",
    "\n",
    "- Bez šumu, použit Qskit Aer backend, 100 iterací, NelderMead optimizér:\n",
    "   $$ B_{c\\bar c} = 496 \\pm 6 \\, \\textrm{MeV} \\quad E_0 = 3036 \\pm 29 \\, \\t{MeV} $$ \n",
    "- Se šumem, simulace počitače IBM Sherbrooke, COBYLA optimizér, 100 iterací:\n",
    "  $$ B_{c\\bar c} = 583 \\pm 10 \\, \\textrm{MeV} \\quad E_0 = 3123 \\pm 30 \\, \\t{MeV} $$\n",
    "- Pro srovnání spin averaged mass $J/\\psi (1s)$ a $\\eta_c(1s)$:\n",
    "  $$ E_0 = \\frac{1}{4}(3M_{J/\\psi} + M_{\\eta_c}) = 3068.5 \\pm 0.1 \\, \\t{MeV}$$"
   ]
  },
  {
   "cell_type": "code",
   "execution_count": null,
   "id": "323c7f93-4374-4adf-a671-b385d3749cf0",
   "metadata": {},
   "outputs": [],
   "source": []
  },
  {
   "cell_type": "code",
   "execution_count": null,
   "id": "68dfeacb-c088-4d59-b1fa-f91d7a4fe18a",
   "metadata": {},
   "outputs": [],
   "source": []
  },
  {
   "cell_type": "markdown",
   "id": "8e84e984-ff2e-4135-afd5-f7fd1a5c1db7",
   "metadata": {},
   "source": []
  },
  {
   "cell_type": "markdown",
   "id": "5b6a37bc-98cd-4b8e-b2f9-b445e67ccb31",
   "metadata": {},
   "source": [
    "<span style=\"font-size:3em;\">KONEC. Zde jsou draci.</span>"
   ]
  },
  {
   "cell_type": "code",
   "execution_count": null,
   "id": "b9dbdb5f-e57b-4232-9a95-415957075b4d",
   "metadata": {},
   "outputs": [],
   "source": []
  },
  {
   "cell_type": "code",
   "execution_count": null,
   "id": "f4a4f8d7-3abf-46b9-a0ea-22c03c8c50fb",
   "metadata": {},
   "outputs": [],
   "source": [
    "import spsa\n",
    "#backend = FakeSherbrooke()\n",
    "#backend = AerSimulator()\n",
    "\n",
    "callback_dict3 = {\n",
    "    \"prev_vector\": None,\n",
    "    \"iters\": 0,\n",
    "    \"cost_history\": [],\n",
    "    \"result\": []\n",
    "}\n",
    "\n",
    "def cost_func_3(x):\n",
    "    energy, result = cost_func(x,isa_circuit, hamiltonian_isa, estimator, callback_dict3)\n",
    "    return energy\n",
    "\n",
    "aer = AerSimulator.from_backend(backend)\n",
    "#aer=AerSimulator()\n",
    "estimator = Estimator(mode=aer)\n",
    "\n",
    "spsa.minimize(\n",
    "        cost_func_3,\n",
    "        x0,\n",
    "        iterations=1000\n",
    ")"
   ]
  },
  {
   "cell_type": "code",
   "execution_count": null,
   "id": "b4b4ef6d-5b41-4722-b58f-0b40924a586f",
   "metadata": {},
   "outputs": [],
   "source": [
    "\n",
    "\n"
   ]
  },
  {
   "cell_type": "code",
   "execution_count": null,
   "id": "d3519382-3a76-48de-be9a-ed9d27d3aec5",
   "metadata": {},
   "outputs": [],
   "source": []
  },
  {
   "cell_type": "code",
   "execution_count": null,
   "id": "f9ab8ee8-4e58-4ef6-b2b0-6b9d94ca9f94",
   "metadata": {},
   "outputs": [],
   "source": []
  },
  {
   "cell_type": "code",
   "execution_count": null,
   "id": "debd02a2-7c32-458f-8e1b-c86102b5cc9b",
   "metadata": {},
   "outputs": [],
   "source": []
  },
  {
   "cell_type": "code",
   "execution_count": 549,
   "id": "3a24dbc6-9581-49cd-9ea6-ddedf1e5f7ab",
   "metadata": {},
   "outputs": [
    {
     "data": {
      "text/plain": [
       "array([3356.1, 2639.2, 1697.8,  490.5, 2148.7, 1207.3,    0. , 3846.5])"
      ]
     },
     "execution_count": 549,
     "metadata": {},
     "output_type": "execute_result"
    }
   ],
   "source": [
    "mat = np.real(np.array(H_pauli))\n",
    "\n",
    "evalue, evect = np.linalg.eig(mat) \n",
    "\n",
    "evalue.round(1)"
   ]
  },
  {
   "cell_type": "markdown",
   "id": "fe44244b-c921-47b1-97c2-990df7b5075b",
   "metadata": {
    "jp-MarkdownHeadingCollapsed": true
   },
   "source": [
    "### Extra LaTeX"
   ]
  },
  {
   "cell_type": "markdown",
   "id": "b62a994f-c4a7-4a82-a11b-37ddf3d6b236",
   "metadata": {},
   "source": [
    "\n",
    "\n",
    "$$\\psi_{n l m}(r,\\theta,\\phi)=N\\left(\\frac{r}{b}\\right)^{l}L_{n}^{l+1/2}(\\frac{r}{b})e x p\\left(-\\frac{r^{2}}{2b^{2}}\\right)Y_{l m}(\\theta,\\phi)$$\n",
    "$$ |N|^{2}=\\frac{2\\alpha^{3}n!}{\\sqrt{\\pi}}\\frac{2^{(2(n+l)+1)}}{(2n+2l+1)!}(n+l)!$$\n",
    "\n"
   ]
  },
  {
   "cell_type": "markdown",
   "id": "a86ece1f-2fc7-4259-9f86-ddcb5dbb4294",
   "metadata": {},
   "source": [
    "VQE Článek:\n",
    "$$ \\langle r|n\\rangle=(-1)^{n}{\\sqrt{{\\frac{2n!}{b^{3}\\,\\Gamma(n+3/2)}}}}\\exp\\biggl(-{\\frac{r^{2}}{2b^{2}}}\\biggr)\\,L_{n}^{1/2}\\biggl({\\frac{r^{2}}{b^{2}}}\\biggr)\\,, $$"
   ]
  },
  {
   "cell_type": "markdown",
   "id": "fffee9f1-e734-4f94-9a5e-aa0f77a9e541",
   "metadata": {},
   "source": [
    "Tahák:"
   ]
  },
  {
   "cell_type": "markdown",
   "id": "632a060c-7f06-484e-a820-d7f7987d27e6",
   "metadata": {},
   "source": [
    "$$\\psi_{n,l,m}(\\xi,\\theta,\\varphi)=R_{n,l}(\\xi)~Y_{l m}(\\theta,\\varphi)$$\n",
    "$$ R_{n,l}(\\xi)=K_{n l}\\;\\xi^{l}\\;e^{-\\frac{\\xi^{2}}2\\;}\\;L_{n}^{l+\\frac{1}{2}}(\\xi^{2}) $$\n",
    "$$ \\xi=r\\sqrt{\\frac{M\\omega}{\\hbar}},\\ \\ \\ K_{n l}=\\frac{2}{\\pi^{\\frac{1}{4}}}\\left(\\frac{M\\omega}{\\hbar}\\right)^{\\frac{3}{4}}\\left(\\frac{2^{n+l}n!}{(2n+2l+1)!!}\\right)^{\\frac{1}{2}} $$\n",
    "$$L_{n}^{\\beta}(z)={\\frac{1}{n!}}\\;e^{z}z^{-\\beta}\\;{\\frac{d^{n}}{d z^{n}}}\\;\\left(e^{-z}z^{n+\\beta}\\right)$$\n",
    "$$ {L}_{0}^{\\beta}(z)=1,\\ {L}_{1}^{\\beta}(z)=1+\\beta-z $$"
   ]
  },
  {
   "cell_type": "markdown",
   "id": "01d7f9fe-32d4-4eb0-ba69-bdfbaa0954c0",
   "metadata": {
    "jp-MarkdownHeadingCollapsed": true
   },
   "source": [
    "Kulové funkce:\n",
    "$$ Y_{l m}(\\theta,\\varphi)=C_{l m}\\;P_{l}^{m}(\\cos\\theta)\\;e^{i m\\varphi}, $$\n",
    "kde $P_l^m$ jsou přidružené Legenderovy polynomy. Pro $l=0$ (a tudíž $m=0$) však platí:\n",
    "$$ Y_{00}(\\theta,\\varphi)=\\frac{1}{\\sqrt{4\\pi}} $$"
   ]
  },
  {
   "cell_type": "code",
   "execution_count": null,
   "id": "12a52a7e-a42b-4de1-851a-c8c94468ceed",
   "metadata": {},
   "outputs": [],
   "source": []
  }
 ],
 "metadata": {
  "kernelspec": {
   "display_name": "Python 3 (ipykernel)",
   "language": "python",
   "name": "python3"
  },
  "language_info": {
   "codemirror_mode": {
    "name": "ipython",
    "version": 3
   },
   "file_extension": ".py",
   "mimetype": "text/x-python",
   "name": "python",
   "nbconvert_exporter": "python",
   "pygments_lexer": "ipython3",
   "version": "3.11.6"
  }
 },
 "nbformat": 4,
 "nbformat_minor": 5
}
