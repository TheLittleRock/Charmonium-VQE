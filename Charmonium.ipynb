{
 "cells": [
  {
   "cell_type": "markdown",
   "id": "267a762b-6d2b-4430-867c-66aba54c26e0",
   "metadata": {},
   "source": [
    "# Definice a importy"
   ]
  },
  {
   "cell_type": "code",
   "execution_count": 156,
   "id": "529284d3-d46b-4ff9-91e7-23585cc69427",
   "metadata": {},
   "outputs": [],
   "source": [
    "import numpy as np\n",
    "import matplotlib.pyplot as plt\n",
    "from tabulate import tabulate"
   ]
  },
  {
   "cell_type": "code",
   "execution_count": null,
   "id": "91655830-b5e1-4d5c-858f-eac0358d7e0b",
   "metadata": {},
   "outputs": [],
   "source": [
    "plt.rcParams['text.latex.preamble']=r\"\\usepackage{mlmodern}\"\n",
    "plt.rcParams[\"text.usetex\"] = True\n",
    "plt.rcParams[\"font.size\"] = 11\n",
    "plt.rcParams[\"font.family\"] = 'mlmodern'\n",
    "#plt.rcParams[\"mathtext.fontset\"] = \"cm\""
   ]
  },
  {
   "cell_type": "code",
   "execution_count": 19,
   "id": "2b04818f-164b-49fd-99f2-577c62907dc9",
   "metadata": {},
   "outputs": [
    {
     "name": "stdout",
     "output_type": "stream",
     "text": [
      "env: QXToken=deleteThisAndPasteYourTokenHere\n"
     ]
    }
   ],
   "source": [
    "%set_env QXToken=deleteThisAndPasteYourTokenHere"
   ]
  },
  {
   "cell_type": "code",
   "execution_count": 3,
   "id": "849f1ff9-7690-466a-a8dd-fea1b11c7c8d",
   "metadata": {},
   "outputs": [],
   "source": [
    "from typing import List, Callable\n",
    "from scipy.optimize import minimize\n",
    "from scipy.optimize._optimize import OptimizeResult\n",
    "\n",
    "from qiskit import QuantumCircuit\n",
    "from qiskit.quantum_info import Statevector, Operator, SparsePauliOp\n",
    "from qiskit.primitives import StatevectorSampler, PrimitiveJob\n",
    "from qiskit.circuit.library import TwoLocal\n",
    "from qiskit.transpiler.preset_passmanagers import generate_preset_pass_manager\n",
    "from qiskit.visualization import plot_histogram\n",
    "from qiskit_ibm_runtime.fake_provider import FakeSherbrooke\n",
    "from qiskit_ibm_runtime import Session, EstimatorV2 as Estimator\n",
    "from qiskit_ibm_runtime import SamplerV2 as Sampler\n",
    "from qiskit_aer import AerSimulator"
   ]
  },
  {
   "cell_type": "markdown",
   "id": "ed7017a4-aa7c-46cd-9585-3350051fda64",
   "metadata": {},
   "source": [
    "Usage: qc.draw('mpl', style = my_style)"
   ]
  },
  {
   "cell_type": "code",
   "execution_count": 4,
   "id": "46839dcc-8a95-46dc-8574-3ac5a613d877",
   "metadata": {},
   "outputs": [],
   "source": [
    "my_style = {\n",
    "\"backgroundcolor\" : \"#111111\",\n",
    "\"linecolor\" : \"#FFFFFF\",\n",
    "\"textcolor\": \"#FFFFFF\",\n",
    "\"gatetextcolor\": \"#FFFFFF\" }"
   ]
  },
  {
   "cell_type": "code",
   "execution_count": 5,
   "id": "bd904d88-68f6-49d6-888c-51c3ddbe8fbb",
   "metadata": {},
   "outputs": [
    {
     "data": {
      "text/plain": [
       "'1.1.1'"
      ]
     },
     "execution_count": 5,
     "metadata": {},
     "output_type": "execute_result"
    }
   ],
   "source": [
    "import qiskit\n",
    "\n",
    "qiskit.__version__"
   ]
  },
  {
   "cell_type": "markdown",
   "id": "e1fda5eb-f3ef-4520-9774-21499f56ab27",
   "metadata": {},
   "source": [
    "$$\\newcommand{\\ket}[1]{\\left|{#1}\\right\\rangle}$$ $$\\newcommand{\\bra}[1]{\\left\\langle{#1}\\right|}$$\n",
    "$$\\newcommand{\\braket}[2]{\\left\\langle{#1}\\middle|{#2}\\right\\rangle}$$\n",
    "$$\\newcommand{\\swch}[3]{\\langle{#1} | #2 | {#3} \\rangle} $$\n",
    "$$\\newcommand{\\d}[]{\\mathrm{d}}$$\n",
    "$$\\newcommand{\\t}[1]{\\mathrm{#1}}$$"
   ]
  },
  {
   "cell_type": "markdown",
   "id": "e1e215b1-b174-49c8-83b7-5d365f7592a9",
   "metadata": {},
   "source": [
    "# Charmonium Hamiltonian"
   ]
  },
  {
   "cell_type": "markdown",
   "id": "97cc995b-bdbd-42b9-baa9-5a3dcb24e550",
   "metadata": {},
   "source": [
    "## Formulace problému"
   ]
  },
  {
   "cell_type": "markdown",
   "id": "44dd6be1-133f-4c0d-a53d-bbef01831391",
   "metadata": {},
   "source": [
    "Články:\n",
    "- *Charmonium: The model*\n",
    "- *Charmonium: the mass spectrum*\n",
    "- *Properties of Low-Lying Charmonium States in a Phenomenological Approach*\n"
   ]
  },
  {
   "cell_type": "markdown",
   "id": "2691d136-417d-477c-a3c7-13e6801e555a",
   "metadata": {},
   "source": [
    "Efektivní jednočásticový potenciál pro $c$ kvark uvězněný v dvoučásticovém $c \\bar c$ nazývaný Cornell potential má podobu:\n",
    "$$\n",
    "\\hat V = -\\frac{\\alpha_s}{r} + \\sigma r\n",
    "$$\n",
    "Nerelativistický Hamiltonián pro $c$ kvark v $c \\bar c$ tedy lze psát:\n",
    "$$\n",
    "\\hat H = 2m_c + \\hat T + \\hat V = 2m_c -\\frac{\\nabla^2}{2\\mu}+\\sigma r -\\frac{\\alpha_s}{r}\n",
    "$$\n",
    "kde $\\mu = \\tfrac{m_c m_c}{m_c + m_c} = \\tfrac{1}{2}m_c$ je redukovaná hmotnost pomocí které lze vyjádřit vnitřní kinetickou energii $c \\bar c$, $m_c$ klidová hmotnost $c$ kvarku. Spolu s konstantami $\\alpha_s$ a $\\sigma$ jsou určeny experimentálně a lze je nalézt v tabulce."
   ]
  },
  {
   "cell_type": "markdown",
   "id": "456ec5c4-3e28-41e5-8b80-f9544bea2d71",
   "metadata": {},
   "source": [
    "Tabulka 1. Konstanty pro výpočty týkající se $c\\bar c$:\n",
    "$$\n",
    "\\begin{array}{cccccc}\n",
    "\\hline \\hline \\alpha_s & \\sqrt{\\sigma} & \\mu & m_c & \\omega & b \\\\\n",
    "\\hline 0.4038 & 441.6 MeV & 635 MeV & 1270 MeV &  562.9 MeV & 1.66 \\times 10^{-3} MeV^{-1} \\\\\n",
    "\\hline\n",
    "\\end{array}\n",
    "$$"
   ]
  },
  {
   "cell_type": "markdown",
   "id": "ef1f1e54-eb08-4740-88a4-158d9d2f0744",
   "metadata": {},
   "source": [
    "Při řešení úlohy se omezíme pouze na stavy $c \\bar c$ s $l=0$, tedy $s$ stavy. Hamiltonián v druhém kvantování bude mít při uvážení 3 orbitlů s nejnižší energií tvar:\n",
    "$$\n",
    "\\hat H_3 = \\sum_{N=0}^{2} \\swch{m}{\\hat H}{n} \\hat a^\\dagger_{m} \\hat a^{\\ }_n\n",
    "$$\n",
    "Orbitaly $\\ket{n}$ volíme jako vlastní $s$ stavy Izotropního harmonického oscilátoru s frekvencí $\\omega$. Užíváme soustavu jednotek $\\hbar = 1$ a zavádíme charakteristickou délku oscilátoru jako $ b = (\\mu \\omega)^{-\\tfrac{1}{2}} $"
   ]
  },
  {
   "cell_type": "markdown",
   "id": "f83ab81f-cd9a-4a8f-b0e4-6d3809cacfb7",
   "metadata": {},
   "source": [
    "Stavy Izotropního Harmonického Oscilátoru (IHO) jsou popsány kvantovými čísly $n,l,m$ jako $\\ket{n,l,m}$. Lze snadno přejít do sférické souřadnicové reprezentace a stavy tak vyjádřit pomocí vlnových funkcí $\\Psi(r,\\theta,\\varphi)$:\n",
    "$$ \\Psi(r,\\theta,\\varphi) = \\braket{r,\\theta,\\varphi\\,}{\\,n,l,m}$$"
   ]
  },
  {
   "cell_type": "markdown",
   "id": "44a598dc-3c5f-411b-8bad-dfb92c4371cf",
   "metadata": {},
   "source": [
    "Hilbertův prostor tvořený těmito funkcemi lze rozložit na Hilbertův prostor kvadraticky integrabilních funkcí na polopřímce $\\mathcal{H}_r$ a Hilbertův prostor kv. integrabilních funkcí na jednotkové kouli $\\mathcal{H}_\\Omega$. Pak $\\mathcal{H} \\sim \\mathcal{H}_r \\otimes \\mathcal{H}_\\Omega$ a vlnové funkce lze rozložit na součin radiální části a sférické části. \n",
    "$$\\Psi(r,\\theta,\\varphi) = R_{n,l}(\\xi)~Y_{l m}(\\theta,\\varphi),$$\n",
    "kde $Y_{l m}(\\theta,\\varphi)$ jsou kulové funkce."
   ]
  },
  {
   "cell_type": "markdown",
   "id": "67cadd2d-8d9e-4832-93f1-e1efaa51c832",
   "metadata": {},
   "source": [
    "Kulové funkce mají obecně tvar:\n",
    "$$ Y_{l m}(\\theta,\\varphi)=C_{l m}\\;P_{l}^{m}(\\cos\\theta)\\;e^{i m\\varphi}, $$\n",
    "kde $P_l^m$ jsou přidružené Legenderovy polynomy. Pro $l=0$ (a tudíž $m=0$) však platí:\n",
    "$$ Y_{00}(\\theta,\\varphi)=\\frac{1}{\\sqrt{4\\pi}} $$\n",
    "Tudíž pro zde uvažované $s$ stavy (tj. $l=0$) je vlnová funkce $\\Psi$ pouze funkcí $r$. Radiální část $R_{n,l}(r)$ vlnové funkce pro IHO má tvar:"
   ]
  },
  {
   "cell_type": "markdown",
   "id": "cf75aab3-fcaf-4ad2-9fb2-760529e6e563",
   "metadata": {},
   "source": [
    "$$ R_{n,l}(r)=K_{n l}\\;\\left(\\tfrac{r}{b}\\right)^{l}\\;e^{-\\frac{r^{2}}{2b^2}\\;}\\;L_{n}^{l+\\frac{1}{2}}((\\tfrac{r}{b})^{2}) $$\n",
    "$$  K_{n l}=2 \\pi^{-\\frac{1}{4}} b^{-\\frac{3}{2}}\\left(\\frac{2^{n+l}n!}{(2n+2l+1)!!}\\right)^{\\frac{1}{2}} $$\n",
    "$$L_{n}^{\\beta}(z)={\\frac{1}{n!}}\\;e^{z}z^{-\\beta}\\;{\\frac{d^{n}}{d z^{n}}}\\;\\left(e^{-z}z^{n+\\beta}\\right)$$"
   ]
  },
  {
   "cell_type": "markdown",
   "id": "0a35d038-45a1-407d-85d5-f11732d6ab0d",
   "metadata": {},
   "source": [
    "Pro $ l=0 $ pak:\n",
    "$$R_n(r) = R_{n,0}(r)=(-1)^{n}{\\sqrt{{\\frac{2n!}{b^{3}\\,\\Gamma(n+3/2)}}}}\\exp\\biggl(-{\\frac{r^{2}}{2b^{2}}}\\biggr)\\,L_{n}^{1/2}\\biggl({\\frac{r^{2}}{b^{2}}}\\biggr)\\,, $$\n",
    "\n",
    "kde $\\Gamma$ je Eulerova gamma funkce."
   ]
  },
  {
   "cell_type": "markdown",
   "id": "86da1ae4-d5bb-490c-ac03-50b7a3b76a05",
   "metadata": {},
   "source": [
    "## Maticové elementy"
   ]
  },
  {
   "cell_type": "markdown",
   "id": "b97ef548-5f61-4513-84bf-43349e11e31b",
   "metadata": {},
   "source": [
    "Výpočet  $H_{mn} = \\swch{m}{\\hat H}{n}$ lze rozdělit na několik částí:"
   ]
  },
  {
   "cell_type": "markdown",
   "id": "226f7c46-699c-4e09-8e72-9347af469866",
   "metadata": {},
   "source": [
    "$$H_{mn} = \\swch{m}{\\hat H}{n} = \\swch{m}{\\hat T}{n} + \\swch{m}{\\hat V}{n} = T_{mn} + V_{mn}.$$"
   ]
  },
  {
   "cell_type": "markdown",
   "id": "1512aa33-e04a-4aae-8e52-cd1207157f34",
   "metadata": {},
   "source": [
    "Pro kinetickou energii $\\hat T$ platí:"
   ]
  },
  {
   "cell_type": "markdown",
   "id": "95f3b8fc-ec2d-4372-bccb-eecd591c2b3c",
   "metadata": {},
   "source": [
    "$$\\hat T = \\frac{1}{2\\mu} \\left( \\frac{\\d^2}{\\d r^2} + \\frac{2}{r} \\frac{\\d}{\\d r} \\right) = \\frac{1}{2\\mu} \\frac{\\d}{\\d r} r^2 \\frac{\\d}{\\d r}. $$\n",
    "\n",
    "Maticový element $T_{mn}$ tak lze vyjádřit pomocí integrálu:\n",
    "\n",
    "$$\\swch{m\\,}{\\hat T}{\\,n}  = (R_m|\\hat T|R_n) = \\frac{1}{2\\mu} \\int_{0}^{\\infty} R_m \\frac{\\d}{\\d r}\\left( r^2 \\frac{\\d R_n}{\\d r}\\right) r^2 \\mathrm{d}r, $$ \n",
    "\n",
    "kde integrace přes úhlovou část vlnových funkcí obdobně jako v případě maticových elementů potenciálu pro $l=0$ k výslednému integrálu nijak nepřispívá. Lze ji tak vynechat."
   ]
  },
  {
   "cell_type": "markdown",
   "id": "d3f19909-5125-421a-995e-33ba2cbd7279",
   "metadata": {},
   "source": [
    "Maticový element potenciálu $V_{mn}$ lze rozložit dále. Potenciál $\\hat V$ má tvar\n",
    "\n",
    "$$\\hat V = -\\frac{\\alpha_s}{r} + \\sigma r.$$\n",
    "\n",
    "Maticový element lze tedy dále rozložit na součet maticových elementů operátoru násobení $r$ a $r^{-1}$\n",
    "\n",
    "$$ \\swch{m}{\\hat V}{n} = -\\alpha_s \\swch{m}{r^{-1}}{n} + \\sigma \\swch{m}{r}{n}.$$\n",
    "\n",
    "Tyto maticové elementy jsou vyjádřeny integrály přes celý prostor prametrizovaný sférickými souřadnicemi. Jak již bylo naznačeno výše, vlnová funkce IHO pro $l=0$ závisí pouze na $r$. Integrací přes úhlové souřadnice je tedy získán celý prostorový úhel $4\\pi$. Tento prostorový úhel je pak vykrácen druhou mocninou kulových funkcí v integrálu. Pro určení maticových elementů $r$ tak stačí pouze integrovat přes radiální souřadnici s přidáním $r^2$ z Jakobiánu sférických souřadnic\n",
    "\n",
    "$$\\swch{m\\,}{r}{\\,n} = \\int_{0}^{2\\pi} \\int_{0}^{\\pi} Y_{00}(\\theta,\\varphi)^2 \\int_{0}^{\\infty} R_{m,0}(r) R_{n,0}(r) \\, r^{3}\\sin\\theta\\,\\mathrm{d}r\\,\\mathrm{d}\\theta\\,\\mathrm{d}\\varphi = \\int_0^{4\\pi} \\tfrac{1}{4\\pi} \\mathrm{d}\\Omega \\int_{0}^{\\infty} R_m R_n \\, r^3 \\mathrm{d}r = \\int_{0}^{\\infty} R_m R_n \\, r^3 \\mathrm{d}r. $$ \n",
    "\n",
    "Obdobně lze postupovat i pro $r^{-1}$\n",
    "\n",
    "$$\\swch{m\\,}{r^{-1}}{\\,n}  = \\int_{0}^{\\infty} R_m R_n \\, r \\mathrm{d}r.$$ "
   ]
  },
  {
   "cell_type": "markdown",
   "id": "fc1ab5bd-5f50-4d93-9bba-92e8524be419",
   "metadata": {
    "jp-MarkdownHeadingCollapsed": true
   },
   "source": [
    "### Vypocty se SymPy"
   ]
  },
  {
   "cell_type": "code",
   "execution_count": 221,
   "id": "7bc165e2-7a19-437d-a520-08c4a7e60a78",
   "metadata": {},
   "outputs": [],
   "source": [
    "from sympy.physics.sho import R_nl\n",
    "from sympy.abc import m, n, r, nu, l, b, psi, omega\n",
    "from sympy import Function, Symbol\n",
    "from sympy import Integral, oo\n",
    "from sympy import *"
   ]
  },
  {
   "cell_type": "markdown",
   "id": "e5d9c193-8a21-49ea-aea3-24a35542a3cf",
   "metadata": {},
   "source": [
    "Knihovna sympy umoňuje symbolické výpočty. Radiální funkce IHO jsou v ní zahrnuty. Pro $l=0$ má tvar:"
   ]
  },
  {
   "cell_type": "code",
   "execution_count": 217,
   "id": "6783694b-2517-40eb-b8ad-c36c9313c905",
   "metadata": {},
   "outputs": [
    {
     "data": {
      "text/latex": [
       "$\\displaystyle \\frac{\\sqrt{\\frac{2^{n + 2} \\left(\\frac{1}{b^{2}}\\right)^{\\frac{3}{2}} n!}{\\left(2 n + 1\\right)!!}} e^{- \\frac{r^{2}}{2 b^{2}}} L_{n}^{\\left(\\frac{1}{2}\\right)}\\left(\\frac{r^{2}}{b^{2}}\\right)}{\\sqrt[4]{\\pi}}$"
      ],
      "text/plain": [
       "sqrt(2**(n + 2)*(b**(-2))**(3/2)*factorial(n)/factorial2(2*n + 1))*exp(-r**2/(2*b**2))*assoc_laguerre(n, 1/2, r**2/b**2)/pi**(1/4)"
      ]
     },
     "execution_count": 217,
     "metadata": {},
     "output_type": "execute_result"
    }
   ],
   "source": [
    "R_nl(n, 0, b**(-2)/2, r)"
   ]
  },
  {
   "cell_type": "markdown",
   "id": "f7460564-8791-4094-b373-ee07f6b9b3b5",
   "metadata": {},
   "source": [
    "Integrály s $R_{nl}$ lze počítat následujícím způsobem: "
   ]
  },
  {
   "cell_type": "code",
   "execution_count": 249,
   "id": "cf80b553-b997-45dd-bfbf-06b6376c5d77",
   "metadata": {},
   "outputs": [
    {
     "name": "stdout",
     "output_type": "stream",
     "text": [
      "Hodnota <0|V|0> je: 90.7944852958506 MeV\n"
     ]
    }
   ],
   "source": [
    "ksi = 1.66*10**(-3) ### Pouze preznacene b, pocitame v MeV a hbar=1\n",
    "i = 0 ### Nastaveni m a n\n",
    "j = 0\n",
    "\n",
    "### Vypocet <0|r|0> a prenasobeni sigma\n",
    "r00 = Integral(\n",
    "    R_nl(i,j,ksi**(-2)/2,r)**2*r**3, \n",
    "    (r, 0, oo)\n",
    ").n()*441.6**2\n",
    "\n",
    "### Vypocet <0|r^-1|0> a prenasobeni alpha\n",
    "invr00 = Integral(\n",
    "    R_nl(i,j,ksi**(-2)/2,r)**2*r, \n",
    "    (r, 0, oo)\n",
    ").n()*0.4038\n",
    "\n",
    "print(\"Hodnota <{}|V|{}> je: {} MeV\".format(i,j,r00 - invr00))"
   ]
  },
  {
   "cell_type": "markdown",
   "id": "8880ee2f-4a4d-427b-9f38-59d7c01c7ddf",
   "metadata": {},
   "source": [
    "### Výpočet $V_{mn} = \\swch{m}{\\hat V}{n}$"
   ]
  },
  {
   "cell_type": "code",
   "execution_count": 247,
   "id": "4df3a8bc-6790-4d8b-aebc-3c354e5d0a64",
   "metadata": {},
   "outputs": [
    {
     "name": "stdout",
     "output_type": "stream",
     "text": [
      "V00 = 90.7944852958506 V01 = 261.180006749393 V02 = -108.514885275498 \n",
      "V10 = 261.180006749393 V11 = 319.179482029386 V12 = 316.718147446441 \n",
      "V20 = -108.514885275498 V21 = 316.718147446441 V22 = 481.318841875256 \n"
     ]
    }
   ],
   "source": [
    "V = np.zeros((3,3))\n",
    "ksi = 1.66*10**(-3)\n",
    "\n",
    "for i in range(3):\n",
    "    for j in range(3):\n",
    "        i1 = Integral(R_nl(i,0,ksi**(-2)/2,r)*R_nl(j,0,ksi**(-2)/2,r)*r**3, (r, 0, oo)).n()\n",
    "        i2 = Integral(R_nl(i,0,ksi**(-2)/2,r)*R_nl(j,0,ksi**(-2)/2,r)*r, (r, 0, oo)).n()\n",
    "        v = (i1*441.6**2 - i2*0.4038)*(-1)**(i+j)\n",
    "        print(\"V{}{} = {}\".format(i,j,v), end = \" \")\n",
    "        if j==2: print(\"\")\n",
    "        V[i][j] = v"
   ]
  },
  {
   "cell_type": "code",
   "execution_count": 163,
   "id": "8c87d5ef-fb17-429c-9e00-96f289abf876",
   "metadata": {},
   "outputs": [
    {
     "name": "stdout",
     "output_type": "stream",
     "text": [
      "[[  90.7944853   261.18000675 -108.51488528]\n",
      " [ 261.18000675  319.17948203  316.71814745]\n",
      " [-108.51488528  316.71814745  481.31884188]]\n"
     ]
    }
   ],
   "source": [
    "print(V)"
   ]
  },
  {
   "cell_type": "code",
   "execution_count": 165,
   "id": "025f90e0-9548-4dfc-96a8-20546daf576f",
   "metadata": {},
   "outputs": [],
   "source": [
    "tab = V\n",
    "#print(tabulate(tab, tablefmt=\"latex_booktabs\"))"
   ]
  },
  {
   "cell_type": "markdown",
   "id": "f447cd1e-d107-4721-bca3-e6ccdf7415dd",
   "metadata": {},
   "source": [
    "Matice definovaná elementy $\\hat V_{mn}$ má tak tvar:\n",
    "$$ V_3 =\n",
    "\\begin{pmatrix*}[r]\n",
    "   90.7945 & 261.18  & -108.515 \\\\\n",
    "  261.18   & 319.179 &  316.718 \\\\\n",
    " -108.515  & 316.718 &  481.319 \\\\\n",
    "\\end{pmatrix*} \\  \\t{MeV}\n",
    "$$"
   ]
  },
  {
   "cell_type": "markdown",
   "id": "a6a8df8b-24ac-4003-8ddd-5fe632c2d103",
   "metadata": {},
   "source": [
    "### Výpočet $T_{mn} = \\swch{m}{\\hat T}{n}$"
   ]
  },
  {
   "cell_type": "markdown",
   "id": "812e5145-fc61-4049-a151-06b2caf76eb3",
   "metadata": {},
   "source": [
    "Pro kinetickou energii $\\hat T$ platí:"
   ]
  },
  {
   "cell_type": "markdown",
   "id": "8c69e0cd-8bad-4bf8-a2e5-a3a445395caf",
   "metadata": {},
   "source": [
    "$$\\hat T = \\frac{1}{2\\mu} \\left( \\frac{\\d^2}{\\d r^2} + \\frac{2}{r} \\frac{\\d}{\\d r} \\right) = \\frac{1}{2\\mu} \\frac{\\d}{\\d r} r^2 \\frac{\\d}{\\d r}. $$\n",
    "\n",
    "Maticový element $T_{mn}$ tak lze vyjádřit pomocí integrálu:\n",
    "\n",
    "$$\\swch{m\\,}{\\hat T}{\\,n}  = (R_m|\\hat T|R_n) = \\frac{1}{2\\mu} \\int_{0}^{\\infty} R_m \\frac{\\d}{\\d r}\\left( r^2 \\frac{\\d R_n}{\\d r}\\right) r^2 \\mathrm{d}r, $$ \n",
    "\n",
    "kde integrace přes úhlovou část vlnových funkcí obdobně jako v případě maticových elementů potenciálu pro $l=0$ k výslednému integrálu nijak nepřispívá. Lze ji tak vynechat."
   ]
  },
  {
   "cell_type": "markdown",
   "id": "8b2f97fa-72da-4a11-8aab-c1af12493ef2",
   "metadata": {},
   "source": [
    "Takto definovaná matice má pásový (třídiagonální) tvar, to plyne z vlastností přidružených Laguerrových polynomů [wolfram](https://mathworld.wolfram.com/AssociatedLaguerrePolynomial.html), [tabulky](https://www.amazon.com/exec/obidos/ASIN/0486612724/ref=nosim/ericstreasuretro). \n",
    "Derivací Lguerrova polynomu lze vyjádřit pomocí Lauguerrových polynomů stejného a o jeden nižšího řádu\n",
    "$$ \\frac{d}{d\\,x}\\;L_{n}^{k}\\left(x\\right)=-\\,L_{n-1}^{\\left(k+1\\right)}\\,\\left(x\\right) =x^{-1}\\left[n\\,L_{n}^{k}\\left(x\\right)-\\left(n+k\\right)L_{n-1}^{k}\\left(x\\right)\\right].$$\n",
    "Derivaci funkce $R_{nl}$ tedy lze vyjádřit pomocí funkcí $R_{nl}$ a $R_{(n-1)l}$. Dále, integrál Laguerrových polynomů přenásobených exponenciálou argumentu, což je tvar na který lze funkce $R_{nl}$ a $R_{(n-1)l}$ převést lze vyjádřit jako: \n",
    "$$ \\int_{0}^{\\infty}e^{-x}\\;x^{k}\\;L_{n}^{k}\\left(x\\right)L_{m}^{k}\\left(x\\right)d\\,x=\\frac{\\left(n+k\\right)!}{n!}\\;\\delta_{m\\,n}. $$\n",
    "\n",
    "Pomocí těchto identit lze spočítat maticové elementy kinetické energie [článek](https://arxiv.org/abs/1512.03802):\n",
    "$$\n",
    "\\swch{m,l \\,}{\\, \\hat T \\,}{\\, n,l} =  \\frac{\\omega}{2}   \\begin{cases}\n",
    "        -\\sqrt{n\\left(n+l+{\\frac{1}{2}}\\right)} \\qquad & m=n-1\\\\[.5em]\n",
    "        \\qquad \\left(2n+l+\\frac{3}{2}\\right)  & m=n \\\\[.5em]\n",
    "        -\\sqrt{\\left(n+1\\right)\\left(n+l+{\\textstyle{\\frac{3}{2}}}\\right)} & m=n+1\n",
    "    \\end{cases}\n",
    "$$\n",
    "A pro $l=0$ tedy:\n",
    "$$\n",
    "\\swch{m \\,}{\\, \\hat T \\,}{\\, n} = \\frac{\\omega}{2} \\left\\{ \\left(2n+\\tfrac{3}{2}\\right) \\delta_{m,n} - \\sqrt{n\\left(n+{\\tfrac{1}{2}}\\right)} \\ \\delta_{m+1,n} - \\sqrt{(n+1)\\left(n+{\\tfrac{3}{2}}\\right)} \\ \\delta_{m-1,n} \\right\\}\n",
    "$$"
   ]
  },
  {
   "cell_type": "code",
   "execution_count": 339,
   "id": "ce45cbf6-02b8-40d1-bd03-0129d1d3eb7b",
   "metadata": {},
   "outputs": [],
   "source": [
    "omega = 562.9\n",
    "from fractions import Fraction\n",
    "\n",
    "def T_func(m,n):\n",
    "    ### pro spravne hodnoty musi byt vynasobeno omega/2\n",
    "    if n==m:\n",
    "        return 2*n + 3/2\n",
    "    elif (m+1)==n: \n",
    "        return -sqrt(n*(n+Fraction(1,2)))\n",
    "    elif (m-1)==n:\n",
    "        return -sqrt((n+1)*(n+Fraction(3,2)))\n",
    "    else:\n",
    "        return 0"
   ]
  },
  {
   "cell_type": "code",
   "execution_count": 350,
   "id": "8faf6882-de1b-494c-8d8a-107cc5d5a207",
   "metadata": {},
   "outputs": [
    {
     "data": {
      "text/latex": [
       "$\\displaystyle - \\sqrt{5}$"
      ],
      "text/plain": [
       "-sqrt(5)"
      ]
     },
     "execution_count": 350,
     "metadata": {},
     "output_type": "execute_result"
    }
   ],
   "source": [
    "T_func(2,1)"
   ]
  },
  {
   "cell_type": "code",
   "execution_count": 341,
   "id": "529d0ac5-c821-4121-82a4-0bd86d5cc4cf",
   "metadata": {},
   "outputs": [
    {
     "name": "stdout",
     "output_type": "stream",
     "text": [
      "[[ 1.5        -1.22474487  0.        ]\n",
      " [-1.22474487  3.5        -2.23606798]\n",
      " [ 0.         -2.23606798  5.5       ]]\n"
     ]
    }
   ],
   "source": [
    "T = np.zeros((3,3))\n",
    "\n",
    "for i in range(3):\n",
    "    for j in range(3):\n",
    "        T[i,j] = T_func(i,j)\n",
    "\n",
    "T_coeff = T\n",
    "print(T_coeff)"
   ]
  },
  {
   "cell_type": "code",
   "execution_count": 342,
   "id": "6052ce14-07f9-42f8-9fbd-71fc0fc41673",
   "metadata": {},
   "outputs": [
    {
     "name": "stdout",
     "output_type": "stream",
     "text": [
      "[[ 422.175      -344.70444405    0.        ]\n",
      " [-344.70444405  985.075      -629.34133227]\n",
      " [   0.         -629.34133227 1547.975     ]]\n"
     ]
    }
   ],
   "source": [
    "T = T*omega/2\n",
    "print(T)"
   ]
  },
  {
   "cell_type": "code",
   "execution_count": 344,
   "id": "e07c753d-eed8-4815-8539-ef9a8be52ead",
   "metadata": {},
   "outputs": [],
   "source": [
    "tab = T\n",
    "#print(tabulate(tab, tablefmt=\"latex_booktabs\"))"
   ]
  },
  {
   "cell_type": "markdown",
   "id": "449bc020-ad9e-4a4c-9043-679d3fdbb37b",
   "metadata": {},
   "source": [
    "Matice $T_3$ má tedy tvar:\n",
    "$$\n",
    "T_3 = \\frac{\\omega}{2}\n",
    "\\begin{pmatrix*}[c]\n",
    "  \\frac{3}{2} & -\\tfrac{\\sqrt{3}}{2} &    0     \\\\\n",
    " -\\frac{\\sqrt{3}}{2} &  \\frac{7}{2} & \\sqrt{5} \\\\\n",
    "    0     & \\sqrt{5} & \\frac{11}{2}  \\\\\n",
    "\\end{pmatrix*} =\n",
    "\\begin{pmatrix*}[r]\n",
    "  422.175 & -344.704 &    0     \\\\\n",
    " -344.704 &  985.075 & -629.341 \\\\\n",
    "    0     & -629.341 & 1547.97  \\\\ \n",
    "\\end{pmatrix*} \\  \\t{MeV}\n",
    "$$"
   ]
  },
  {
   "cell_type": "code",
   "execution_count": null,
   "id": "577d1622-916a-4b77-9e5e-4ac7a9da7a0c",
   "metadata": {},
   "outputs": [],
   "source": []
  },
  {
   "cell_type": "code",
   "execution_count": null,
   "id": "a1165a5a-94ab-441c-89a3-9a9908e4d3a7",
   "metadata": {},
   "outputs": [],
   "source": []
  },
  {
   "cell_type": "code",
   "execution_count": null,
   "id": "e0fc9bab-5dd3-4b7f-9f94-6d1bf4d5a25d",
   "metadata": {},
   "outputs": [],
   "source": []
  },
  {
   "cell_type": "code",
   "execution_count": null,
   "id": "a2b93e6e-e0ff-45c1-abf8-5899817d4469",
   "metadata": {},
   "outputs": [],
   "source": []
  },
  {
   "cell_type": "code",
   "execution_count": null,
   "id": "3a5592ec-b7ac-4db3-9468-1a33eac2d622",
   "metadata": {},
   "outputs": [],
   "source": []
  },
  {
   "cell_type": "code",
   "execution_count": null,
   "id": "d7d39846-a1f7-49b3-817e-4ca0a68d4874",
   "metadata": {},
   "outputs": [],
   "source": []
  },
  {
   "cell_type": "markdown",
   "id": "fe44244b-c921-47b1-97c2-990df7b5075b",
   "metadata": {
    "jp-MarkdownHeadingCollapsed": true
   },
   "source": [
    "### Extra LaTeX"
   ]
  },
  {
   "cell_type": "markdown",
   "id": "b62a994f-c4a7-4a82-a11b-37ddf3d6b236",
   "metadata": {},
   "source": [
    "\n",
    "\n",
    "$$\\psi_{n l m}(r,\\theta,\\phi)=N\\left(\\frac{r}{b}\\right)^{l}L_{n}^{l+1/2}(\\frac{r}{b})e x p\\left(-\\frac{r^{2}}{2b^{2}}\\right)Y_{l m}(\\theta,\\phi)$$\n",
    "$$ |N|^{2}=\\frac{2\\alpha^{3}n!}{\\sqrt{\\pi}}\\frac{2^{(2(n+l)+1)}}{(2n+2l+1)!}(n+l)!$$\n",
    "\n"
   ]
  },
  {
   "cell_type": "markdown",
   "id": "a86ece1f-2fc7-4259-9f86-ddcb5dbb4294",
   "metadata": {},
   "source": [
    "VQE Článek:\n",
    "$$ \\langle r|n\\rangle=(-1)^{n}{\\sqrt{{\\frac{2n!}{b^{3}\\,\\Gamma(n+3/2)}}}}\\exp\\biggl(-{\\frac{r^{2}}{2b^{2}}}\\biggr)\\,L_{n}^{1/2}\\biggl({\\frac{r^{2}}{b^{2}}}\\biggr)\\,, $$"
   ]
  },
  {
   "cell_type": "markdown",
   "id": "fffee9f1-e734-4f94-9a5e-aa0f77a9e541",
   "metadata": {},
   "source": [
    "Tahák:"
   ]
  },
  {
   "cell_type": "markdown",
   "id": "632a060c-7f06-484e-a820-d7f7987d27e6",
   "metadata": {},
   "source": [
    "$$\\psi_{n,l,m}(\\xi,\\theta,\\varphi)=R_{n,l}(\\xi)~Y_{l m}(\\theta,\\varphi)$$\n",
    "$$ R_{n,l}(\\xi)=K_{n l}\\;\\xi^{l}\\;e^{-\\frac{\\xi^{2}}2\\;}\\;L_{n}^{l+\\frac{1}{2}}(\\xi^{2}) $$\n",
    "$$ \\xi=r\\sqrt{\\frac{M\\omega}{\\hbar}},\\ \\ \\ K_{n l}=\\frac{2}{\\pi^{\\frac{1}{4}}}\\left(\\frac{M\\omega}{\\hbar}\\right)^{\\frac{3}{4}}\\left(\\frac{2^{n+l}n!}{(2n+2l+1)!!}\\right)^{\\frac{1}{2}} $$\n",
    "$$L_{n}^{\\beta}(z)={\\frac{1}{n!}}\\;e^{z}z^{-\\beta}\\;{\\frac{d^{n}}{d z^{n}}}\\;\\left(e^{-z}z^{n+\\beta}\\right)$$\n",
    "$$ {L}_{0}^{\\beta}(z)=1,\\ {L}_{1}^{\\beta}(z)=1+\\beta-z $$"
   ]
  },
  {
   "cell_type": "markdown",
   "id": "01d7f9fe-32d4-4eb0-ba69-bdfbaa0954c0",
   "metadata": {
    "jp-MarkdownHeadingCollapsed": true
   },
   "source": [
    "Kulové funkce:\n",
    "$$ Y_{l m}(\\theta,\\varphi)=C_{l m}\\;P_{l}^{m}(\\cos\\theta)\\;e^{i m\\varphi}, $$\n",
    "kde $P_l^m$ jsou přidružené Legenderovy polynomy. Pro $l=0$ (a tudíž $m=0$) však platí:\n",
    "$$ Y_{00}(\\theta,\\varphi)=\\frac{1}{\\sqrt{4\\pi}} $$"
   ]
  },
  {
   "cell_type": "code",
   "execution_count": null,
   "id": "12a52a7e-a42b-4de1-851a-c8c94468ceed",
   "metadata": {},
   "outputs": [],
   "source": []
  }
 ],
 "metadata": {
  "kernelspec": {
   "display_name": "Python 3 (ipykernel)",
   "language": "python",
   "name": "python3"
  },
  "language_info": {
   "codemirror_mode": {
    "name": "ipython",
    "version": 3
   },
   "file_extension": ".py",
   "mimetype": "text/x-python",
   "name": "python",
   "nbconvert_exporter": "python",
   "pygments_lexer": "ipython3",
   "version": "3.11.6"
  }
 },
 "nbformat": 4,
 "nbformat_minor": 5
}
