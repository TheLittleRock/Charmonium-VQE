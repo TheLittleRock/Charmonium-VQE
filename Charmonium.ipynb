{
 "cells": [
  {
   "cell_type": "markdown",
   "id": "267a762b-6d2b-4430-867c-66aba54c26e0",
   "metadata": {
    "jp-MarkdownHeadingCollapsed": true
   },
   "source": [
    "# Definice a importy"
   ]
  },
  {
   "cell_type": "markdown",
   "id": "e1fda5eb-f3ef-4520-9774-21499f56ab27",
   "metadata": {},
   "source": [
    "$$\\newcommand{\\ket}[1]{\\left|{#1}\\right\\rangle}$$\n",
    "$$\\newcommand{\\bra}[1]{\\left\\langle{#1}\\right|}$$\n",
    "\n",
    "$$\\bra{\\Psi}\\Omega\\ket{\\Psi}$$\n"
   ]
  },
  {
   "cell_type": "markdown",
   "id": "50ea0f1a-6ec0-41c2-9492-a3d8a1603d42",
   "metadata": {},
   "source": [
    "$$\\newcommand{\\braket}[2]{\\left\\langle{#1}\\middle|{#2}\\right\\rangle}$$\n",
    "$$\\braket{\\Psi}{\\Psi}$$\n",
    "\n",
    "\n",
    "$$\\braket{\\frac{\\Psi}{2}}{\\Psi}$$"
   ]
  },
  {
   "cell_type": "code",
   "execution_count": 2,
   "id": "529284d3-d46b-4ff9-91e7-23585cc69427",
   "metadata": {},
   "outputs": [],
   "source": [
    "import numpy as np\n",
    "import matplotlib.pyplot as plt\n",
    "from tabulate import tabulate\n",
    "import matplotlib"
   ]
  },
  {
   "cell_type": "code",
   "execution_count": null,
   "id": "91655830-b5e1-4d5c-858f-eac0358d7e0b",
   "metadata": {},
   "outputs": [],
   "source": [
    "plt.rcParams['text.latex.preamble']=r\"\\usepackage{mlmodern}\"\n",
    "plt.rcParams[\"text.usetex\"] = True\n",
    "plt.rcParams[\"font.size\"] = 11\n",
    "plt.rcParams[\"font.family\"] = 'mlmodern'\n",
    "#plt.rcParams[\"mathtext.fontset\"] = \"cm\""
   ]
  },
  {
   "cell_type": "code",
   "execution_count": 19,
   "id": "2b04818f-164b-49fd-99f2-577c62907dc9",
   "metadata": {},
   "outputs": [
    {
     "name": "stdout",
     "output_type": "stream",
     "text": [
      "env: QXToken=deleteThisAndPasteYourTokenHere\n"
     ]
    }
   ],
   "source": [
    "%set_env QXToken=deleteThisAndPasteYourTokenHere"
   ]
  },
  {
   "cell_type": "code",
   "execution_count": 3,
   "id": "849f1ff9-7690-466a-a8dd-fea1b11c7c8d",
   "metadata": {},
   "outputs": [],
   "source": [
    "from typing import List, Callable\n",
    "from scipy.optimize import minimize\n",
    "from scipy.optimize._optimize import OptimizeResult\n",
    "\n",
    "from qiskit import QuantumCircuit\n",
    "from qiskit.quantum_info import Statevector, Operator, SparsePauliOp\n",
    "from qiskit.primitives import StatevectorSampler, PrimitiveJob\n",
    "from qiskit.circuit.library import TwoLocal\n",
    "from qiskit.transpiler.preset_passmanagers import generate_preset_pass_manager\n",
    "from qiskit.visualization import plot_histogram\n",
    "from qiskit_ibm_runtime.fake_provider import FakeSherbrooke\n",
    "from qiskit_ibm_runtime import Session, EstimatorV2 as Estimator\n",
    "from qiskit_ibm_runtime import SamplerV2 as Sampler\n",
    "from qiskit_aer import AerSimulator"
   ]
  },
  {
   "cell_type": "markdown",
   "id": "ed7017a4-aa7c-46cd-9585-3350051fda64",
   "metadata": {},
   "source": [
    "Usage: qc.draw('mpl', style = my_style)"
   ]
  },
  {
   "cell_type": "code",
   "execution_count": 4,
   "id": "46839dcc-8a95-46dc-8574-3ac5a613d877",
   "metadata": {},
   "outputs": [],
   "source": [
    "my_style = {\n",
    "\"backgroundcolor\" : \"#111111\",\n",
    "\"linecolor\" : \"#FFFFFF\",\n",
    "\"textcolor\": \"#FFFFFF\",\n",
    "\"gatetextcolor\": \"#FFFFFF\" }"
   ]
  },
  {
   "cell_type": "code",
   "execution_count": 5,
   "id": "bd904d88-68f6-49d6-888c-51c3ddbe8fbb",
   "metadata": {},
   "outputs": [
    {
     "data": {
      "text/plain": [
       "'1.1.1'"
      ]
     },
     "execution_count": 5,
     "metadata": {},
     "output_type": "execute_result"
    }
   ],
   "source": [
    "import qiskit\n",
    "\n",
    "qiskit.__version__"
   ]
  },
  {
   "cell_type": "markdown",
   "id": "e1e215b1-b174-49c8-83b7-5d365f7592a9",
   "metadata": {},
   "source": [
    "# Charmonium Hamiltonian"
   ]
  },
  {
   "cell_type": "markdown",
   "id": "2691d136-417d-477c-a3c7-13e6801e555a",
   "metadata": {},
   "source": [
    "Efektivní jednočásticový potenciál pro $c$ kvark uvězněný v dvoučásticovém $c \\bar c$ nazývaný Cornell potential má podobu:\n",
    "$$\n",
    "\\hat V = -\\frac{\\alpha_s}{r} + \\sigma r\n",
    "$$\n",
    "Hamiltonián pro $c$ kvark v $c \\bar c$ tedy lze psát:\n",
    "$$\n",
    "\\hat H = 2m_c + \\hat T + \\hat V = 2m_c -\\frac{\\nabla^2}{2\\mu}+\\sigma r -\\frac{\\alpha_s}{r}\n",
    "$$\n",
    "kde $\\mu = \\tfrac{m_c m_c}{m_c + m_c} = \\tfrac{1}{2}m_c$ je redukovaná hmotnost, $m_c$ klidová hmotnost $c$ kvarku. Spolu s konstantami $\\alpha_s$ a $\\sigma$ jsou určeny experimentálně a lze je nalézt v tabulce."
   ]
  },
  {
   "cell_type": "markdown",
   "id": "456ec5c4-3e28-41e5-8b80-f9544bea2d71",
   "metadata": {},
   "source": [
    "Tabulka 1. Konstanty pro výpočty týkající se $c\\bar c$:\n",
    "$$\n",
    "\\begin{array}{cccccc}\n",
    "\\hline \\hline \\alpha_s & \\sqrt{\\sigma} & \\mu & m_c & \\omega & d \\\\\n",
    "\\hline 0.4038 & 441.6 MeV & 635 MeV & 1270 MeV &  562.9 MeV & 1.17 \\times 10^{-3} MeV^{-1} \\\\\n",
    "\\hline\n",
    "\\end{array}\n",
    "$$"
   ]
  },
  {
   "cell_type": "code",
   "execution_count": null,
   "id": "00d72be2-acfc-4cd3-8d39-cf166b6069bb",
   "metadata": {},
   "outputs": [],
   "source": []
  },
  {
   "cell_type": "code",
   "execution_count": null,
   "id": "7bc165e2-7a19-437d-a520-08c4a7e60a78",
   "metadata": {},
   "outputs": [],
   "source": []
  }
 ],
 "metadata": {
  "kernelspec": {
   "display_name": "Python 3 (ipykernel)",
   "language": "python",
   "name": "python3"
  },
  "language_info": {
   "codemirror_mode": {
    "name": "ipython",
    "version": 3
   },
   "file_extension": ".py",
   "mimetype": "text/x-python",
   "name": "python",
   "nbconvert_exporter": "python",
   "pygments_lexer": "ipython3",
   "version": "3.11.6"
  }
 },
 "nbformat": 4,
 "nbformat_minor": 5
}
