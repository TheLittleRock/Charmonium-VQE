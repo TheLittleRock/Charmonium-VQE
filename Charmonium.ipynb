{
 "cells": [
  {
   "cell_type": "markdown",
   "id": "267a762b-6d2b-4430-867c-66aba54c26e0",
   "metadata": {
    "jp-MarkdownHeadingCollapsed": true
   },
   "source": [
    "# Definice a importy"
   ]
  },
  {
   "cell_type": "markdown",
   "id": "e1fda5eb-f3ef-4520-9774-21499f56ab27",
   "metadata": {},
   "source": [
    "$$\\newcommand{\\ket}[1]{\\left|{#1}\\right\\rangle}$$\n",
    "$$\\newcommand{\\bra}[1]{\\left\\langle{#1}\\right|}$$\n",
    "$$\\newcommand{\\braket}[2]{\\left\\langle{#1}\\middle|{#2}\\right\\rangle}$$\n",
    "$$\\newcommand{\\swch}[3]{\\langle{#1} | #2 | {#3} \\rangle} $$"
   ]
  },
  {
   "cell_type": "code",
   "execution_count": 2,
   "id": "529284d3-d46b-4ff9-91e7-23585cc69427",
   "metadata": {},
   "outputs": [],
   "source": [
    "import numpy as np\n",
    "import matplotlib.pyplot as plt\n",
    "from tabulate import tabulate\n",
    "import matplotlib"
   ]
  },
  {
   "cell_type": "code",
   "execution_count": null,
   "id": "91655830-b5e1-4d5c-858f-eac0358d7e0b",
   "metadata": {},
   "outputs": [],
   "source": [
    "plt.rcParams['text.latex.preamble']=r\"\\usepackage{mlmodern}\"\n",
    "plt.rcParams[\"text.usetex\"] = True\n",
    "plt.rcParams[\"font.size\"] = 11\n",
    "plt.rcParams[\"font.family\"] = 'mlmodern'\n",
    "#plt.rcParams[\"mathtext.fontset\"] = \"cm\""
   ]
  },
  {
   "cell_type": "code",
   "execution_count": 19,
   "id": "2b04818f-164b-49fd-99f2-577c62907dc9",
   "metadata": {},
   "outputs": [
    {
     "name": "stdout",
     "output_type": "stream",
     "text": [
      "env: QXToken=deleteThisAndPasteYourTokenHere\n"
     ]
    }
   ],
   "source": [
    "%set_env QXToken=deleteThisAndPasteYourTokenHere"
   ]
  },
  {
   "cell_type": "code",
   "execution_count": 3,
   "id": "849f1ff9-7690-466a-a8dd-fea1b11c7c8d",
   "metadata": {},
   "outputs": [],
   "source": [
    "from typing import List, Callable\n",
    "from scipy.optimize import minimize\n",
    "from scipy.optimize._optimize import OptimizeResult\n",
    "\n",
    "from qiskit import QuantumCircuit\n",
    "from qiskit.quantum_info import Statevector, Operator, SparsePauliOp\n",
    "from qiskit.primitives import StatevectorSampler, PrimitiveJob\n",
    "from qiskit.circuit.library import TwoLocal\n",
    "from qiskit.transpiler.preset_passmanagers import generate_preset_pass_manager\n",
    "from qiskit.visualization import plot_histogram\n",
    "from qiskit_ibm_runtime.fake_provider import FakeSherbrooke\n",
    "from qiskit_ibm_runtime import Session, EstimatorV2 as Estimator\n",
    "from qiskit_ibm_runtime import SamplerV2 as Sampler\n",
    "from qiskit_aer import AerSimulator"
   ]
  },
  {
   "cell_type": "markdown",
   "id": "ed7017a4-aa7c-46cd-9585-3350051fda64",
   "metadata": {},
   "source": [
    "Usage: qc.draw('mpl', style = my_style)"
   ]
  },
  {
   "cell_type": "code",
   "execution_count": 4,
   "id": "46839dcc-8a95-46dc-8574-3ac5a613d877",
   "metadata": {},
   "outputs": [],
   "source": [
    "my_style = {\n",
    "\"backgroundcolor\" : \"#111111\",\n",
    "\"linecolor\" : \"#FFFFFF\",\n",
    "\"textcolor\": \"#FFFFFF\",\n",
    "\"gatetextcolor\": \"#FFFFFF\" }"
   ]
  },
  {
   "cell_type": "code",
   "execution_count": 5,
   "id": "bd904d88-68f6-49d6-888c-51c3ddbe8fbb",
   "metadata": {},
   "outputs": [
    {
     "data": {
      "text/plain": [
       "'1.1.1'"
      ]
     },
     "execution_count": 5,
     "metadata": {},
     "output_type": "execute_result"
    }
   ],
   "source": [
    "import qiskit\n",
    "\n",
    "qiskit.__version__"
   ]
  },
  {
   "cell_type": "markdown",
   "id": "e1e215b1-b174-49c8-83b7-5d365f7592a9",
   "metadata": {},
   "source": [
    "# Charmonium Hamiltonian"
   ]
  },
  {
   "cell_type": "markdown",
   "id": "44dd6be1-133f-4c0d-a53d-bbef01831391",
   "metadata": {},
   "source": [
    "Články:\n",
    "- Charmonium: The model\n",
    "- Charmonium: the mass spectrum\n",
    "- Properties of Low-Lying Charmonium States in a Phenomenological Approach\n"
   ]
  },
  {
   "cell_type": "markdown",
   "id": "2691d136-417d-477c-a3c7-13e6801e555a",
   "metadata": {},
   "source": [
    "Efektivní jednočásticový potenciál pro $c$ kvark uvězněný v dvoučásticovém $c \\bar c$ nazývaný Cornell potential má podobu:\n",
    "$$\n",
    "\\hat V = -\\frac{\\alpha_s}{r} + \\sigma r\n",
    "$$\n",
    "Nerelativistický Hamiltonián pro $c$ kvark v $c \\bar c$ tedy lze psát:\n",
    "$$\n",
    "\\hat H = 2m_c + \\hat T + \\hat V = 2m_c -\\frac{\\nabla^2}{2\\mu}+\\sigma r -\\frac{\\alpha_s}{r}\n",
    "$$\n",
    "kde $\\mu = \\tfrac{m_c m_c}{m_c + m_c} = \\tfrac{1}{2}m_c$ je redukovaná hmotnost pomocí které lze vyjádřit vnitřní kinetickou energii $c \\bar c$, $m_c$ klidová hmotnost $c$ kvarku. Spolu s konstantami $\\alpha_s$ a $\\sigma$ jsou určeny experimentálně a lze je nalézt v tabulce."
   ]
  },
  {
   "cell_type": "markdown",
   "id": "456ec5c4-3e28-41e5-8b80-f9544bea2d71",
   "metadata": {},
   "source": [
    "Tabulka 1. Konstanty pro výpočty týkající se $c\\bar c$:\n",
    "$$\n",
    "\\begin{array}{cccccc}\n",
    "\\hline \\hline \\alpha_s & \\sqrt{\\sigma} & \\mu & m_c & \\omega & d \\\\\n",
    "\\hline 0.4038 & 441.6 MeV & 635 MeV & 1270 MeV &  562.9 MeV & 1.17 \\times 10^{-3} MeV^{-1} \\\\\n",
    "\\hline\n",
    "\\end{array}\n",
    "$$"
   ]
  },
  {
   "cell_type": "markdown",
   "id": "ef1f1e54-eb08-4740-88a4-158d9d2f0744",
   "metadata": {},
   "source": [
    "Při řešení úlohy se omezíme pouze na stavy $c \\bar c$ s $l=0$, tedy $s$ stavy. Hamiltonián v druhém kvantování bude mít při uvážení 3 orbitlů s nejnižší energií tvar:\n",
    "$$\n",
    "\\hat H_3 = \\sum_{N=0}^{2} \\swch{m}{\\hat H}{n} \\hat a^\\dagger_{m} \\hat a^{\\ }_n\n",
    "$$\n",
    "Orbitaly $\\ket{n}$ volíme jako vlastní $s$ stavy Izotropního harmonického oscilátoru s frekvencí $\\omega$. Užíváme soustavu jednotek $\\hbar = 1$ a zavádíme charakteristickou délku oscilátoru jako $ d = (\\mu \\omega)^{-\\tfrac{1}{2}} $"
   ]
  },
  {
   "cell_type": "markdown",
   "id": "f83ab81f-cd9a-4a8f-b0e4-6d3809cacfb7",
   "metadata": {},
   "source": [
    "Stavy Izotropního Harmonického Oscilátoru (IHO) jsou popsány kvantovými čísly $n,l,m$ jako $\\ket{n,l,m}$. Lze snadno přejít do sférické souřadnicové reprezentace a stavy tak vyjádřit pomocí vlnových funkcí $\\Psi(r,\\theta,\\varphi)$:\n",
    "$$ \\Psi(r,\\theta,\\varphi) = \\braket{r,\\theta,\\varphi\\,}{\\,n,l,m}$$"
   ]
  },
  {
   "cell_type": "markdown",
   "id": "44a598dc-3c5f-411b-8bad-dfb92c4371cf",
   "metadata": {},
   "source": [
    "Hilbertův prostor tvořený těmito funkcemi lze rozložit na Hilbertův prostor kvadraticky integrabilních funkcí na polopřímce $\\mathcal{H}_r$ a Hilbertův prostor kv. integrabilních funkcí na jednotkové kouli $\\mathcal{H}_\\Omega$. Pak $\\mathcal{H} \\sim \\mathcal{H}_r \\otimes \\mathcal{H}_\\Omega$ a vlnové funkce lze rozložit na součin radiální části a sférické části. \n",
    "$$\\Psi(r,\\theta,\\varphi) = R_{n,l}(\\xi)~Y_{l m}(\\theta,\\varphi),$$\n",
    "kde $Y_{l m}(\\theta,\\varphi)$ jsou kulové funkce."
   ]
  },
  {
   "cell_type": "markdown",
   "id": "67cadd2d-8d9e-4832-93f1-e1efaa51c832",
   "metadata": {},
   "source": [
    "Kulové funkce mají obecně tvar:\n",
    "$$ Y_{l m}(\\theta,\\varphi)=C_{l m}\\;P_{l}^{m}(\\cos\\theta)\\;e^{i m\\varphi}, $$\n",
    "kde $P_l^m$ jsou přidružené Legenderovy polynomy. Pro $l=0$ (a tudíž $m=0$) však platí:\n",
    "$$ Y_{00}(\\theta,\\varphi)=\\frac{1}{\\sqrt{4\\pi}} $$\n",
    "Tudíž pro zde uvažované $s$ stavy (tj. $l=0$) je vlnová funkce pouze funkcí "
   ]
  },
  {
   "cell_type": "code",
   "execution_count": null,
   "id": "931bad42-6ed3-482e-881b-77ee86db0452",
   "metadata": {},
   "outputs": [],
   "source": []
  },
  {
   "cell_type": "code",
   "execution_count": null,
   "id": "5113d9c2-f0f9-4726-8afb-4b3203969453",
   "metadata": {},
   "outputs": [],
   "source": []
  },
  {
   "cell_type": "markdown",
   "id": "b62a994f-c4a7-4a82-a11b-37ddf3d6b236",
   "metadata": {},
   "source": [
    "\n",
    "\n",
    "$$\\psi_{n l m}(r,\\theta,\\phi)=N\\left(\\frac{r}{b}\\right)^{l}L_{n}^{l+1/2}(\\frac{r}{b})e x p\\left(-\\frac{r^{2}}{2b^{2}}\\right)Y_{l m}(\\theta,\\phi)$$\n",
    "$$ |N|^{2}=\\frac{2\\alpha^{3}n!}{\\sqrt{\\pi}}\\frac{2^{(2(n+l)+1)}}{(2n+2l+1)!}(n+l)!$$\n",
    "\n"
   ]
  },
  {
   "cell_type": "markdown",
   "id": "a86ece1f-2fc7-4259-9f86-ddcb5dbb4294",
   "metadata": {},
   "source": [
    "VQE Článek:\n",
    "$$ \\langle r|n\\rangle=(-1)^{n}{\\sqrt{{\\frac{2n!}{b^{3}\\,\\Gamma(n+3/2)}}}}\\exp\\biggl(-{\\frac{r^{2}}{2b^{2}}}\\biggr)\\,L_{n}^{1/2}\\biggl({\\frac{r^{2}}{b^{2}}}\\biggr)\\,, $$"
   ]
  },
  {
   "cell_type": "markdown",
   "id": "fffee9f1-e734-4f94-9a5e-aa0f77a9e541",
   "metadata": {},
   "source": [
    "Tahák:"
   ]
  },
  {
   "cell_type": "markdown",
   "id": "632a060c-7f06-484e-a820-d7f7987d27e6",
   "metadata": {},
   "source": [
    "$$\\psi_{n,l,m}(\\xi,\\theta,\\varphi)=R_{n,l}(\\xi)~Y_{l m}(\\theta,\\varphi)$$\n",
    "$$ R_{n,l}(\\xi)=K_{n l}\\;\\xi^{l}\\;e^{-\\frac{\\xi^{2}}2\\;}\\;L_{n}^{l+\\frac{1}{2}}(\\xi^{2}) $$\n",
    "$$ \\xi=r\\sqrt{\\frac{M\\omega}{\\hbar}},\\ \\ \\ K_{n l}=\\frac{2}{\\pi^{\\frac{1}{4}}}\\left(\\frac{M\\omega}{\\hbar}\\right)^{\\frac{3}{4}}\\left(\\frac{2^{n+l}n!}{(2n+2l+1)!!}\\right)^{\\frac{1}{2}} $$\n",
    "$$L_{n}^{\\beta}(z)={\\frac{1}{n!}}\\;e^{z}z^{-\\beta}\\;{\\frac{d^{n}}{d z^{n}}}\\;\\left(e^{-z}z^{n+\\beta}\\right)$$\n",
    "$$ {L}_{0}^{\\beta}(z)=1,\\ {L}_{1}^{\\beta}(z)=1+\\beta-z $$"
   ]
  },
  {
   "cell_type": "markdown",
   "id": "01d7f9fe-32d4-4eb0-ba69-bdfbaa0954c0",
   "metadata": {},
   "source": [
    "Kulové funkce:\n",
    "$$ Y_{l m}(\\theta,\\varphi)=C_{l m}\\;P_{l}^{m}(\\cos\\theta)\\;e^{i m\\varphi}, $$\n",
    "kde $P_l^m$ jsou přidružené Legenderovy polynomy. Pro $l=0$ (a tudíž $m=0$) však platí:\n",
    "$$ Y_{00}(\\theta,\\varphi)=\\frac{1}{\\sqrt{4\\pi}} $$"
   ]
  },
  {
   "cell_type": "markdown",
   "id": "86da1ae4-d5bb-490c-ac03-50b7a3b76a05",
   "metadata": {},
   "source": [
    "## Maticové elementy"
   ]
  },
  {
   "cell_type": "code",
   "execution_count": null,
   "id": "7bc165e2-7a19-437d-a520-08c4a7e60a78",
   "metadata": {},
   "outputs": [],
   "source": []
  }
 ],
 "metadata": {
  "kernelspec": {
   "display_name": "Python 3 (ipykernel)",
   "language": "python",
   "name": "python3"
  },
  "language_info": {
   "codemirror_mode": {
    "name": "ipython",
    "version": 3
   },
   "file_extension": ".py",
   "mimetype": "text/x-python",
   "name": "python",
   "nbconvert_exporter": "python",
   "pygments_lexer": "ipython3",
   "version": "3.11.6"
  }
 },
 "nbformat": 4,
 "nbformat_minor": 5
}
