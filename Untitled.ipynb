{
 "cells": [
  {
   "cell_type": "code",
   "execution_count": 2,
   "id": "5fc11377-dfc8-4617-a44b-f40590181b76",
   "metadata": {},
   "outputs": [
    {
     "name": "stdout",
     "output_type": "stream",
     "text": [
      "Expectation values for pub 0: [1566.98280787]\n"
     ]
    }
   ],
   "source": [
    "from qiskit_ibm_runtime import QiskitRuntimeService\n",
    "\n",
    "service = QiskitRuntimeService(\n",
    "    channel='ibm_quantum',\n",
    "    instance='ibm-q/open/main',\n",
    "    token='3995d18757f7a07fadfe6c00d94ce4d7aa20b35e38dc33f95f4023b0a7132918a8ed7b0a2c45a5f01e284d24f7145c1134071cc04a94f37cd7405e2420fff658'\n",
    ")\n",
    "job = service.job('ctpeqhe6g3rg0087jwng')\n",
    "job_result = job.result()\n",
    "\n",
    "for idx, pub_result in enumerate(job_result):\n",
    "    print(f\"Expectation values for pub {idx}: {pub_result.data.evs}\")"
   ]
  },
  {
   "cell_type": "code",
   "execution_count": null,
   "id": "187ae0f7-6f13-49c2-b191-6380514864da",
   "metadata": {},
   "outputs": [],
   "source": []
  }
 ],
 "metadata": {
  "kernelspec": {
   "display_name": "Python 3 (ipykernel)",
   "language": "python",
   "name": "python3"
  },
  "language_info": {
   "codemirror_mode": {
    "name": "ipython",
    "version": 3
   },
   "file_extension": ".py",
   "mimetype": "text/x-python",
   "name": "python",
   "nbconvert_exporter": "python",
   "pygments_lexer": "ipython3",
   "version": "3.11.6"
  }
 },
 "nbformat": 4,
 "nbformat_minor": 5
}
