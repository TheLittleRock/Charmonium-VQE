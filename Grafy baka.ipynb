{
 "cells": [
  {
   "cell_type": "code",
   "execution_count": 1,
   "id": "922a07c1-9e05-44d7-9256-831b1971ace1",
   "metadata": {},
   "outputs": [],
   "source": [
    "import numpy as np\n",
    "import matplotlib.pyplot as plt\n",
    "from tabulate import tabulate\n",
    "import matplotlib"
   ]
  },
  {
   "cell_type": "raw",
   "id": "58236450-efe0-44ad-9c64-ab894d204f75",
   "metadata": {},
   "source": [
    "matplotlib.use(\"pgf\")\n",
    "matplotlib.rcParams.update({\n",
    "    \"pgf.texsystem\": \"pdflatex\",\n",
    "    'font.family': 'serif',\n",
    "    'text.usetex': True,\n",
    "    'pgf.rcfonts': False,\n",
    "})\n",
    "\n",
    "\n",
    "#Direct input \n",
    "plt.rcParams['text.latex.preamble']=[r\"\\usepackage{lmodern}\"]\n",
    "#Options\n",
    "params = {'text.usetex' : True,\n",
    "          'font.size' : 11,\n",
    "          'font.family' : 'lmodern',\n",
    "          'text.latex.unicode': True,\n",
    "          }\n",
    "plt.rcParams.update(params) "
   ]
  },
  {
   "cell_type": "code",
   "execution_count": 26,
   "id": "b73fa393-aad9-4e31-acff-c5005b0cbbdb",
   "metadata": {},
   "outputs": [],
   "source": [
    "plt.rcParams['text.latex.preamble']=r\"\\usepackage{mlmodern}\"\n",
    "plt.rcParams[\"text.usetex\"] = True\n",
    "plt.rcParams[\"font.size\"] = 11\n",
    "plt.rcParams[\"font.family\"] = 'mlmodern'\n",
    "#plt.rcParams[\"mathtext.fontset\"] = \"cm\""
   ]
  },
  {
   "cell_type": "code",
   "execution_count": 2,
   "id": "27c7d60e-e4d7-46ab-acfd-49e8db25af36",
   "metadata": {},
   "outputs": [
    {
     "name": "stdout",
     "output_type": "stream",
     "text": [
      "$\\left|01\\right\\rangle$\n"
     ]
    }
   ],
   "source": [
    "def ket(s):\n",
    "    return r\"$\\left|{}\\right\\rangle$\".format(s)\n",
    "\n",
    "print(ket(\"01\"))"
   ]
  },
  {
   "cell_type": "code",
   "execution_count": 3,
   "id": "88e7d723-a35c-4c71-abe4-c1cbc64f6388",
   "metadata": {},
   "outputs": [
    {
     "data": {
      "image/png": "[encoded data removed]",
      "text/plain": [
       "<Figure size 415x250 with 1 Axes>"
      ]
     },
     "metadata": {},
     "output_type": "display_data"
    }
   ],
   "source": [
    "def addlabels(x,y):\n",
    "    for i in range(len(x)):\n",
    "        plt.text(i, y[i]+10, r\"${}$\".format(str(y[i])), ha = 'center')\n",
    "\n",
    "plt.figure(figsize = (4.15,2.5))\n",
    "\n",
    "x = np.array([ket(\"00\"), ket(\"01\"), ket(\"10\"), ket(\"11\")])\n",
    "y = np.array([500, 0, 0, 500])\n",
    "\n",
    "plt.bar(x,y, color = \"dimgrey\", edgecolor = \"black\")\n",
    "addlabels(x, y)\n",
    "\n",
    "plt.ylim(0, 600)\n",
    "\n",
    "plt.ylabel(\"Počet výstřelů\")\n",
    "plt.xlabel(\"Stav\")\n",
    "\n",
    "plt.savefig('measurement_plot.pdf', bbox_inches = \"tight\")\n",
    "plt.show()"
   ]
  },
  {
   "cell_type": "code",
   "execution_count": null,
   "id": "ee657546-8f49-4f2d-ac66-5156013c247c",
   "metadata": {},
   "outputs": [],
   "source": []
  }
 ],
 "metadata": {
  "kernelspec": {
   "display_name": "Python 3 (ipykernel)",
   "language": "python",
   "name": "python3"
  },
  "language_info": {
   "codemirror_mode": {
    "name": "ipython",
    "version": 3
   },
   "file_extension": ".py",
   "mimetype": "text/x-python",
   "name": "python",
   "nbconvert_exporter": "python",
   "pygments_lexer": "ipython3",
   "version": "3.11.6"
  }
 },
 "nbformat": 4,
 "nbformat_minor": 5
}
